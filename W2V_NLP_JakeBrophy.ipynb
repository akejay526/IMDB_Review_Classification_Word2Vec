{
 "cells": [
  {
   "cell_type": "code",
   "execution_count": 1,
   "id": "f763d8f7",
   "metadata": {},
   "outputs": [],
   "source": [
    "import gensim\n",
    "import gensim\n",
    "import pandas as pd\n",
    "import numpy as np\n",
    "import gzip\n",
    "import logging\n",
    "logging.basicConfig(format='%(asctime)s : %(levelname)s : %(message)s', level=logging.INFO)"
   ]
  },
  {
   "cell_type": "markdown",
   "id": "def2af22",
   "metadata": {},
   "source": [
    "# Question 2"
   ]
  },
  {
   "cell_type": "code",
   "execution_count": 81,
   "id": "755fdc9b",
   "metadata": {},
   "outputs": [
    {
     "data": {
      "text/html": [
       "<div>\n",
       "<style scoped>\n",
       "    .dataframe tbody tr th:only-of-type {\n",
       "        vertical-align: middle;\n",
       "    }\n",
       "\n",
       "    .dataframe tbody tr th {\n",
       "        vertical-align: top;\n",
       "    }\n",
       "\n",
       "    .dataframe thead th {\n",
       "        text-align: right;\n",
       "    }\n",
       "</style>\n",
       "<table border=\"1\" class=\"dataframe\">\n",
       "  <thead>\n",
       "    <tr style=\"text-align: right;\">\n",
       "      <th></th>\n",
       "      <th>review</th>\n",
       "      <th>sentiment</th>\n",
       "    </tr>\n",
       "  </thead>\n",
       "  <tbody>\n",
       "    <tr>\n",
       "      <th>0</th>\n",
       "      <td>One of the other reviewers has mentioned that ...</td>\n",
       "      <td>positive</td>\n",
       "    </tr>\n",
       "    <tr>\n",
       "      <th>1</th>\n",
       "      <td>A wonderful little production. &lt;br /&gt;&lt;br /&gt;The...</td>\n",
       "      <td>positive</td>\n",
       "    </tr>\n",
       "    <tr>\n",
       "      <th>2</th>\n",
       "      <td>I thought this was a wonderful way to spend ti...</td>\n",
       "      <td>positive</td>\n",
       "    </tr>\n",
       "    <tr>\n",
       "      <th>3</th>\n",
       "      <td>Basically there's a family where a little boy ...</td>\n",
       "      <td>negative</td>\n",
       "    </tr>\n",
       "    <tr>\n",
       "      <th>4</th>\n",
       "      <td>Petter Mattei's \"Love in the Time of Money\" is...</td>\n",
       "      <td>positive</td>\n",
       "    </tr>\n",
       "  </tbody>\n",
       "</table>\n",
       "</div>"
      ],
      "text/plain": [
       "                                              review sentiment\n",
       "0  One of the other reviewers has mentioned that ...  positive\n",
       "1  A wonderful little production. <br /><br />The...  positive\n",
       "2  I thought this was a wonderful way to spend ti...  positive\n",
       "3  Basically there's a family where a little boy ...  negative\n",
       "4  Petter Mattei's \"Love in the Time of Money\" is...  positive"
      ]
     },
     "execution_count": 81,
     "metadata": {},
     "output_type": "execute_result"
    }
   ],
   "source": [
    "#read in dataset\n",
    "imdb=pd.read_csv('IMDB Dataset.csv')\n",
    "imdb.head()"
   ]
  },
  {
   "cell_type": "code",
   "execution_count": 82,
   "id": "7f0b448e",
   "metadata": {},
   "outputs": [],
   "source": [
    "target_vals=imdb['sentiment'].value_counts().reset_index()"
   ]
  },
  {
   "cell_type": "code",
   "execution_count": 83,
   "id": "6ef85dce",
   "metadata": {},
   "outputs": [
    {
     "data": {
      "text/plain": [
       "<AxesSubplot:xlabel='index', ylabel='sentiment'>"
      ]
     },
     "execution_count": 83,
     "metadata": {},
     "output_type": "execute_result"
    },
    {
     "data": {
      "image/png": "[encoded data removed]",
      "text/plain": [
       "<Figure size 432x288 with 1 Axes>"
      ]
     },
     "metadata": {
      "needs_background": "light"
     },
     "output_type": "display_data"
    }
   ],
   "source": [
    "sns.barplot(x='index',y='sentiment',data=target_vals)"
   ]
  },
  {
   "cell_type": "code",
   "execution_count": 4,
   "id": "1c60a23e",
   "metadata": {},
   "outputs": [
    {
     "name": "stdout",
     "output_type": "stream",
     "text": [
      "0    [one, of, the, other, reviewers, has, mentione...\n",
      "1    [wonderful, little, production, br, br, the, f...\n",
      "2    [thought, this, was, wonderful, way, to, spend...\n",
      "3    [basically, there, family, where, little, boy,...\n",
      "4    [petter, mattei, love, in, the, time, of, mone...\n",
      "5    [probably, my, all, time, favorite, movie, sto...\n",
      "6    [sure, would, like, to, see, resurrection, of,...\n",
      "7    [this, show, was, an, amazing, fresh, innovati...\n",
      "8    [encouraged, by, the, positive, comments, abou...\n",
      "9    [if, you, like, original, gut, wrenching, laug...\n",
      "Name: tokenized_text, dtype: object\n"
     ]
    }
   ],
   "source": [
    "#import simple preprocess module from gensim\n",
    "from gensim.utils import simple_preprocess\n",
    "# Tokenize the text column to get the new column 'tokenized_text'\n",
    "imdb['tokenized_text'] = [simple_preprocess(line, deacc=True) for line in imdb['review']]\n",
    "#print first 10 tokenized reviews\n",
    "print(imdb['tokenized_text'].head(10))"
   ]
  },
  {
   "cell_type": "code",
   "execution_count": 5,
   "id": "bc6dc739",
   "metadata": {},
   "outputs": [
    {
     "data": {
      "text/plain": [
       "0    [on, of, the, other, review, ha, mention, that...\n",
       "1    [wonder, littl, product, br, br, the, film, te...\n",
       "2    [thought, thi, wa, wonder, wai, to, spend, tim...\n",
       "3    [basic, there, famili, where, littl, boi, jake...\n",
       "4    [petter, mattei, love, in, the, time, of, mone...\n",
       "5    [probabl, my, all, time, favorit, movi, stori,...\n",
       "6    [sure, would, like, to, see, resurrect, of, up...\n",
       "7    [thi, show, wa, an, amaz, fresh, innov, idea, ...\n",
       "8    [encourag, by, the, posit, comment, about, thi...\n",
       "9    [if, you, like, origin, gut, wrench, laughter,...\n",
       "Name: stemmed_tokens, dtype: object"
      ]
     },
     "execution_count": 5,
     "metadata": {},
     "output_type": "execute_result"
    }
   ],
   "source": [
    "#import porterstemmer\n",
    "from gensim.parsing.porter import PorterStemmer\n",
    "porter_stemmer = PorterStemmer()\n",
    "# Get the stemmed_tokens\n",
    "imdb['stemmed_tokens'] = [[porter_stemmer.stem(word) for word in tokens] for tokens in imdb['tokenized_text'] ]\n",
    "imdb['stemmed_tokens'].head(10)"
   ]
  },
  {
   "cell_type": "code",
   "execution_count": 6,
   "id": "086c5036",
   "metadata": {},
   "outputs": [],
   "source": [
    "#conduct 80/20 train test split\n",
    "from sklearn.model_selection import train_test_split\n",
    "X_train, X_test, Y_train, Y_test = train_test_split(imdb['stemmed_tokens'], \n",
    "                                                        imdb['sentiment'], \n",
    "                                                        shuffle=True,\n",
    "                                                        test_size=0.2, \n",
    "                                                        random_state=15)"
   ]
  },
  {
   "cell_type": "markdown",
   "id": "7558365d",
   "metadata": {},
   "source": [
    "## Preprocessing\n",
    "\n",
    "Basic preprocessing was conducted such as converting all words to lowercase, stemming, and tokenizing all words so that they can be more easily represented as one-hot encoded vectors that can be passed into our word2vec model"
   ]
  },
  {
   "cell_type": "markdown",
   "id": "89f66bc9",
   "metadata": {},
   "source": [
    "# Question 3"
   ]
  },
  {
   "cell_type": "markdown",
   "id": "32fad276",
   "metadata": {},
   "source": [
    "## Part 1"
   ]
  },
  {
   "cell_type": "code",
   "execution_count": 7,
   "id": "4e88bf68",
   "metadata": {},
   "outputs": [],
   "source": [
    "#assign stemmed tokens to new variable\n",
    "stemmed_tokens = pd.Series(imdb['stemmed_tokens']).values"
   ]
  },
  {
   "cell_type": "code",
   "execution_count": 8,
   "id": "4316d842",
   "metadata": {
    "scrolled": true
   },
   "outputs": [
    {
     "name": "stderr",
     "output_type": "stream",
     "text": [
      "2023-03-08 18:50:15,328 : INFO : collecting all words and their counts\n",
      "2023-03-08 18:50:15,328 : INFO : PROGRESS: at sentence #0, processed 0 words, keeping 0 word types\n",
      "2023-03-08 18:50:15,531 : INFO : PROGRESS: at sentence #10000, processed 2235115 words, keeping 34948 word types\n",
      "2023-03-08 18:50:15,717 : INFO : PROGRESS: at sentence #20000, processed 4471355 words, keeping 46592 word types\n",
      "2023-03-08 18:50:15,913 : INFO : PROGRESS: at sentence #30000, processed 6703795 words, keeping 55178 word types\n",
      "2023-03-08 18:50:16,106 : INFO : PROGRESS: at sentence #40000, processed 8930547 words, keeping 62430 word types\n",
      "2023-03-08 18:50:16,296 : INFO : collected 68818 word types from a corpus of 11176467 raw words and 50000 sentences\n",
      "2023-03-08 18:50:16,297 : INFO : Creating a fresh vocabulary\n",
      "2023-03-08 18:50:16,349 : INFO : Word2Vec lifecycle event {'msg': 'effective_min_count=5 retains 26588 unique words (38.64% of original 68818, drops 42230)', 'datetime': '2023-03-08T18:50:16.349078', 'gensim': '4.2.0', 'python': '3.8.11 (default, Aug 16 2021, 12:04:33) \\n[Clang 12.0.0 ]', 'platform': 'macOS-13.2.1-arm64-arm-64bit', 'event': 'prepare_vocab'}\n",
      "2023-03-08 18:50:16,349 : INFO : Word2Vec lifecycle event {'msg': 'effective_min_count=5 leaves 11108863 word corpus (99.40% of original 11176467, drops 67604)', 'datetime': '2023-03-08T18:50:16.349438', 'gensim': '4.2.0', 'python': '3.8.11 (default, Aug 16 2021, 12:04:33) \\n[Clang 12.0.0 ]', 'platform': 'macOS-13.2.1-arm64-arm-64bit', 'event': 'prepare_vocab'}\n",
      "2023-03-08 18:50:16,408 : INFO : deleting the raw counts dictionary of 68818 items\n",
      "2023-03-08 18:50:16,409 : INFO : sample=0.001 downsamples 48 most-common words\n",
      "2023-03-08 18:50:16,409 : INFO : Word2Vec lifecycle event {'msg': 'downsampling leaves estimated 8368333.100896217 word corpus (75.3%% of prior 11108863)', 'datetime': '2023-03-08T18:50:16.409937', 'gensim': '4.2.0', 'python': '3.8.11 (default, Aug 16 2021, 12:04:33) \\n[Clang 12.0.0 ]', 'platform': 'macOS-13.2.1-arm64-arm-64bit', 'event': 'prepare_vocab'}\n",
      "2023-03-08 18:50:16,515 : INFO : estimated required memory for 26588 words and 100 dimensions: 34564400 bytes\n",
      "2023-03-08 18:50:16,516 : INFO : resetting layer weights\n",
      "2023-03-08 18:50:16,524 : INFO : Word2Vec lifecycle event {'update': False, 'trim_rule': 'None', 'datetime': '2023-03-08T18:50:16.524580', 'gensim': '4.2.0', 'python': '3.8.11 (default, Aug 16 2021, 12:04:33) \\n[Clang 12.0.0 ]', 'platform': 'macOS-13.2.1-arm64-arm-64bit', 'event': 'build_vocab'}\n",
      "2023-03-08 18:50:16,524 : INFO : Word2Vec lifecycle event {'msg': 'training model with 3 workers on 26588 vocabulary and 100 features, using sg=1 hs=0 sample=0.001 negative=5 window=5 shrink_windows=True', 'datetime': '2023-03-08T18:50:16.524861', 'gensim': '4.2.0', 'python': '3.8.11 (default, Aug 16 2021, 12:04:33) \\n[Clang 12.0.0 ]', 'platform': 'macOS-13.2.1-arm64-arm-64bit', 'event': 'train'}\n",
      "2023-03-08 18:50:17,533 : INFO : EPOCH 0 - PROGRESS: at 8.36% examples, 690935 words/s, in_qsize 5, out_qsize 0\n",
      "2023-03-08 18:50:18,541 : INFO : EPOCH 0 - PROGRESS: at 16.67% examples, 694614 words/s, in_qsize 5, out_qsize 0\n",
      "2023-03-08 18:50:19,559 : INFO : EPOCH 0 - PROGRESS: at 25.37% examples, 701434 words/s, in_qsize 5, out_qsize 0\n",
      "2023-03-08 18:50:20,573 : INFO : EPOCH 0 - PROGRESS: at 34.08% examples, 705652 words/s, in_qsize 5, out_qsize 0\n",
      "2023-03-08 18:50:21,586 : INFO : EPOCH 0 - PROGRESS: at 42.73% examples, 707851 words/s, in_qsize 5, out_qsize 0\n",
      "2023-03-08 18:50:22,591 : INFO : EPOCH 0 - PROGRESS: at 51.34% examples, 709564 words/s, in_qsize 5, out_qsize 0\n",
      "2023-03-08 18:50:23,607 : INFO : EPOCH 0 - PROGRESS: at 59.99% examples, 708796 words/s, in_qsize 5, out_qsize 0\n",
      "2023-03-08 18:50:24,607 : INFO : EPOCH 0 - PROGRESS: at 68.38% examples, 707639 words/s, in_qsize 5, out_qsize 0\n",
      "2023-03-08 18:50:25,616 : INFO : EPOCH 0 - PROGRESS: at 76.67% examples, 705426 words/s, in_qsize 5, out_qsize 0\n",
      "2023-03-08 18:50:26,624 : INFO : EPOCH 0 - PROGRESS: at 84.94% examples, 703488 words/s, in_qsize 5, out_qsize 0\n",
      "2023-03-08 18:50:27,626 : INFO : EPOCH 0 - PROGRESS: at 93.39% examples, 704645 words/s, in_qsize 5, out_qsize 0\n",
      "2023-03-08 18:50:28,394 : INFO : EPOCH 0: training on 11176467 raw words (8367347 effective words) took 11.9s, 705108 effective words/s\n",
      "2023-03-08 18:50:29,416 : INFO : EPOCH 1 - PROGRESS: at 8.36% examples, 682142 words/s, in_qsize 5, out_qsize 0\n",
      "2023-03-08 18:50:30,428 : INFO : EPOCH 1 - PROGRESS: at 16.16% examples, 667778 words/s, in_qsize 5, out_qsize 0\n",
      "2023-03-08 18:50:31,428 : INFO : EPOCH 1 - PROGRESS: at 24.28% examples, 672634 words/s, in_qsize 5, out_qsize 0\n",
      "2023-03-08 18:50:32,431 : INFO : EPOCH 1 - PROGRESS: at 32.66% examples, 678772 words/s, in_qsize 5, out_qsize 0\n",
      "2023-03-08 18:50:33,433 : INFO : EPOCH 1 - PROGRESS: at 40.76% examples, 677741 words/s, in_qsize 5, out_qsize 0\n",
      "2023-03-08 18:50:34,454 : INFO : EPOCH 1 - PROGRESS: at 48.81% examples, 675377 words/s, in_qsize 5, out_qsize 0\n",
      "2023-03-08 18:50:35,466 : INFO : EPOCH 1 - PROGRESS: at 57.07% examples, 675716 words/s, in_qsize 5, out_qsize 0\n",
      "2023-03-08 18:50:36,469 : INFO : EPOCH 1 - PROGRESS: at 65.35% examples, 678440 words/s, in_qsize 5, out_qsize 0\n",
      "2023-03-08 18:50:37,473 : INFO : EPOCH 1 - PROGRESS: at 73.54% examples, 678045 words/s, in_qsize 5, out_qsize 0\n",
      "2023-03-08 18:50:38,480 : INFO : EPOCH 1 - PROGRESS: at 82.08% examples, 680514 words/s, in_qsize 5, out_qsize 0\n",
      "2023-03-08 18:50:39,497 : INFO : EPOCH 1 - PROGRESS: at 90.32% examples, 681565 words/s, in_qsize 5, out_qsize 0\n",
      "2023-03-08 18:50:40,501 : INFO : EPOCH 1 - PROGRESS: at 98.77% examples, 683059 words/s, in_qsize 5, out_qsize 0\n",
      "2023-03-08 18:50:40,639 : INFO : EPOCH 1: training on 11176467 raw words (8369052 effective words) took 12.2s, 683659 effective words/s\n",
      "2023-03-08 18:50:41,641 : INFO : EPOCH 2 - PROGRESS: at 8.36% examples, 693519 words/s, in_qsize 5, out_qsize 0\n",
      "2023-03-08 18:50:42,650 : INFO : EPOCH 2 - PROGRESS: at 16.95% examples, 707241 words/s, in_qsize 5, out_qsize 0\n",
      "2023-03-08 18:50:43,659 : INFO : EPOCH 2 - PROGRESS: at 25.62% examples, 711867 words/s, in_qsize 5, out_qsize 0\n",
      "2023-03-08 18:50:44,681 : INFO : EPOCH 2 - PROGRESS: at 34.34% examples, 712064 words/s, in_qsize 5, out_qsize 0\n",
      "2023-03-08 18:50:45,689 : INFO : EPOCH 2 - PROGRESS: at 43.10% examples, 715169 words/s, in_qsize 5, out_qsize 0\n",
      "2023-03-08 18:50:46,692 : INFO : EPOCH 2 - PROGRESS: at 51.67% examples, 715883 words/s, in_qsize 6, out_qsize 0\n",
      "2023-03-08 18:50:47,701 : INFO : EPOCH 2 - PROGRESS: at 60.50% examples, 716908 words/s, in_qsize 5, out_qsize 0\n",
      "2023-03-08 18:50:48,715 : INFO : EPOCH 2 - PROGRESS: at 69.19% examples, 717346 words/s, in_qsize 5, out_qsize 0\n",
      "2023-03-08 18:50:49,727 : INFO : EPOCH 2 - PROGRESS: at 77.97% examples, 717761 words/s, in_qsize 5, out_qsize 0\n",
      "2023-03-08 18:50:50,735 : INFO : EPOCH 2 - PROGRESS: at 86.58% examples, 718084 words/s, in_qsize 5, out_qsize 0\n",
      "2023-03-08 18:50:51,741 : INFO : EPOCH 2 - PROGRESS: at 95.23% examples, 718373 words/s, in_qsize 5, out_qsize 0\n",
      "2023-03-08 18:50:52,284 : INFO : EPOCH 2: training on 11176467 raw words (8368350 effective words) took 11.6s, 718661 effective words/s\n",
      "2023-03-08 18:50:53,304 : INFO : EPOCH 3 - PROGRESS: at 8.62% examples, 703301 words/s, in_qsize 5, out_qsize 0\n",
      "2023-03-08 18:50:54,310 : INFO : EPOCH 3 - PROGRESS: at 17.20% examples, 713113 words/s, in_qsize 5, out_qsize 0\n",
      "2023-03-08 18:50:55,318 : INFO : EPOCH 3 - PROGRESS: at 25.90% examples, 716086 words/s, in_qsize 5, out_qsize 0\n",
      "2023-03-08 18:50:56,327 : INFO : EPOCH 3 - PROGRESS: at 34.61% examples, 717531 words/s, in_qsize 5, out_qsize 0\n",
      "2023-03-08 18:50:57,330 : INFO : EPOCH 3 - PROGRESS: at 43.28% examples, 718832 words/s, in_qsize 5, out_qsize 0\n",
      "2023-03-08 18:50:58,342 : INFO : EPOCH 3 - PROGRESS: at 51.94% examples, 719013 words/s, in_qsize 5, out_qsize 0\n",
      "2023-03-08 18:50:59,351 : INFO : EPOCH 3 - PROGRESS: at 60.76% examples, 719640 words/s, in_qsize 5, out_qsize 0\n",
      "2023-03-08 18:51:00,363 : INFO : EPOCH 3 - PROGRESS: at 69.45% examples, 719798 words/s, in_qsize 5, out_qsize 0\n",
      "2023-03-08 18:51:01,375 : INFO : EPOCH 3 - PROGRESS: at 78.25% examples, 720034 words/s, in_qsize 5, out_qsize 0\n",
      "2023-03-08 18:51:02,385 : INFO : EPOCH 3 - PROGRESS: at 86.85% examples, 719966 words/s, in_qsize 5, out_qsize 0\n"
     ]
    },
    {
     "name": "stderr",
     "output_type": "stream",
     "text": [
      "2023-03-08 18:51:03,386 : INFO : EPOCH 3 - PROGRESS: at 95.50% examples, 720402 words/s, in_qsize 5, out_qsize 0\n",
      "2023-03-08 18:51:03,895 : INFO : EPOCH 3: training on 11176467 raw words (8368186 effective words) took 11.6s, 720818 effective words/s\n",
      "2023-03-08 18:51:04,909 : INFO : EPOCH 4 - PROGRESS: at 8.62% examples, 706758 words/s, in_qsize 5, out_qsize 0\n",
      "2023-03-08 18:51:05,917 : INFO : EPOCH 4 - PROGRESS: at 17.20% examples, 713872 words/s, in_qsize 5, out_qsize 0\n",
      "2023-03-08 18:51:06,926 : INFO : EPOCH 4 - PROGRESS: at 25.90% examples, 716360 words/s, in_qsize 5, out_qsize 0\n",
      "2023-03-08 18:51:07,936 : INFO : EPOCH 4 - PROGRESS: at 34.61% examples, 717638 words/s, in_qsize 5, out_qsize 0\n",
      "2023-03-08 18:51:08,936 : INFO : EPOCH 4 - PROGRESS: at 43.28% examples, 719463 words/s, in_qsize 5, out_qsize 0\n",
      "2023-03-08 18:51:09,947 : INFO : EPOCH 4 - PROGRESS: at 51.94% examples, 719658 words/s, in_qsize 5, out_qsize 0\n",
      "2023-03-08 18:51:10,949 : INFO : EPOCH 4 - PROGRESS: at 60.68% examples, 719915 words/s, in_qsize 5, out_qsize 0\n",
      "2023-03-08 18:51:11,950 : INFO : EPOCH 4 - PROGRESS: at 69.27% examples, 720138 words/s, in_qsize 5, out_qsize 0\n",
      "2023-03-08 18:51:12,959 : INFO : EPOCH 4 - PROGRESS: at 77.97% examples, 719631 words/s, in_qsize 5, out_qsize 0\n",
      "2023-03-08 18:51:13,969 : INFO : EPOCH 4 - PROGRESS: at 86.58% examples, 719632 words/s, in_qsize 5, out_qsize 0\n",
      "2023-03-08 18:51:14,972 : INFO : EPOCH 4 - PROGRESS: at 95.23% examples, 720012 words/s, in_qsize 5, out_qsize 0\n",
      "2023-03-08 18:51:15,512 : INFO : EPOCH 4: training on 11176467 raw words (8368195 effective words) took 11.6s, 720399 effective words/s\n",
      "2023-03-08 18:51:15,512 : INFO : Word2Vec lifecycle event {'msg': 'training on 55882335 raw words (41841130 effective words) took 59.0s, 709333 effective words/s', 'datetime': '2023-03-08T18:51:15.512602', 'gensim': '4.2.0', 'python': '3.8.11 (default, Aug 16 2021, 12:04:33) \\n[Clang 12.0.0 ]', 'platform': 'macOS-13.2.1-arm64-arm-64bit', 'event': 'train'}\n",
      "2023-03-08 18:51:15,512 : INFO : Word2Vec lifecycle event {'params': 'Word2Vec<vocab=26588, vector_size=100, alpha=0.025>', 'datetime': '2023-03-08T18:51:15.512792', 'gensim': '4.2.0', 'python': '3.8.11 (default, Aug 16 2021, 12:04:33) \\n[Clang 12.0.0 ]', 'platform': 'macOS-13.2.1-arm64-arm-64bit', 'event': 'created'}\n"
     ]
    }
   ],
   "source": [
    "#fit word2vec model on stemmed tokens\n",
    "w2v_model = gensim.models.Word2Vec (stemmed_tokens, vector_size=100, window=5, min_count=5, sg=1)"
   ]
  },
  {
   "cell_type": "code",
   "execution_count": 88,
   "id": "a29059ff",
   "metadata": {
    "scrolled": true
   },
   "outputs": [],
   "source": [
    "#function to create document vectors by averaging all word vectors\n",
    "def create_doc_vec(X):  \n",
    "    #create empty list for vectors\n",
    "    doc_vec=[]\n",
    "    #loop through values\n",
    "    for i in range(0, len(X)):\n",
    "        #subset to only words that appear in the word2vec corpus\n",
    "        w2v_words=[word for word in X.iloc[i] if (word in w2v_model.wv.index_to_key)]\n",
    "        #take the row-wise mean using numpy and append to list\n",
    "        doc_vec.append((np.mean([w2v_model.wv[token] for token in w2v_words], axis=0)).tolist())\n",
    "    #convert to pandas df for use in ML tasks\n",
    "    return pd.DataFrame(doc_vec)"
   ]
  },
  {
   "cell_type": "code",
   "execution_count": 89,
   "id": "264f84dc",
   "metadata": {},
   "outputs": [],
   "source": [
    "#create training doc embeddings\n",
    "w2v_embed_df_train=create_doc_vec(X_train)"
   ]
  },
  {
   "cell_type": "code",
   "execution_count": 90,
   "id": "1ce0296a",
   "metadata": {},
   "outputs": [
    {
     "data": {
      "text/html": [
       "<style>#sk-container-id-1 {color: black;background-color: white;}#sk-container-id-1 pre{padding: 0;}#sk-container-id-1 div.sk-toggleable {background-color: white;}#sk-container-id-1 label.sk-toggleable__label {cursor: pointer;display: block;width: 100%;margin-bottom: 0;padding: 0.3em;box-sizing: border-box;text-align: center;}#sk-container-id-1 label.sk-toggleable__label-arrow:before {content: \"▸\";float: left;margin-right: 0.25em;color: #696969;}#sk-container-id-1 label.sk-toggleable__label-arrow:hover:before {color: black;}#sk-container-id-1 div.sk-estimator:hover label.sk-toggleable__label-arrow:before {color: black;}#sk-container-id-1 div.sk-toggleable__content {max-height: 0;max-width: 0;overflow: hidden;text-align: left;background-color: #f0f8ff;}#sk-container-id-1 div.sk-toggleable__content pre {margin: 0.2em;color: black;border-radius: 0.25em;background-color: #f0f8ff;}#sk-container-id-1 input.sk-toggleable__control:checked~div.sk-toggleable__content {max-height: 200px;max-width: 100%;overflow: auto;}#sk-container-id-1 input.sk-toggleable__control:checked~label.sk-toggleable__label-arrow:before {content: \"▾\";}#sk-container-id-1 div.sk-estimator input.sk-toggleable__control:checked~label.sk-toggleable__label {background-color: #d4ebff;}#sk-container-id-1 div.sk-label input.sk-toggleable__control:checked~label.sk-toggleable__label {background-color: #d4ebff;}#sk-container-id-1 input.sk-hidden--visually {border: 0;clip: rect(1px 1px 1px 1px);clip: rect(1px, 1px, 1px, 1px);height: 1px;margin: -1px;overflow: hidden;padding: 0;position: absolute;width: 1px;}#sk-container-id-1 div.sk-estimator {font-family: monospace;background-color: #f0f8ff;border: 1px dotted black;border-radius: 0.25em;box-sizing: border-box;margin-bottom: 0.5em;}#sk-container-id-1 div.sk-estimator:hover {background-color: #d4ebff;}#sk-container-id-1 div.sk-parallel-item::after {content: \"\";width: 100%;border-bottom: 1px solid gray;flex-grow: 1;}#sk-container-id-1 div.sk-label:hover label.sk-toggleable__label {background-color: #d4ebff;}#sk-container-id-1 div.sk-serial::before {content: \"\";position: absolute;border-left: 1px solid gray;box-sizing: border-box;top: 0;bottom: 0;left: 50%;z-index: 0;}#sk-container-id-1 div.sk-serial {display: flex;flex-direction: column;align-items: center;background-color: white;padding-right: 0.2em;padding-left: 0.2em;position: relative;}#sk-container-id-1 div.sk-item {position: relative;z-index: 1;}#sk-container-id-1 div.sk-parallel {display: flex;align-items: stretch;justify-content: center;background-color: white;position: relative;}#sk-container-id-1 div.sk-item::before, #sk-container-id-1 div.sk-parallel-item::before {content: \"\";position: absolute;border-left: 1px solid gray;box-sizing: border-box;top: 0;bottom: 0;left: 50%;z-index: -1;}#sk-container-id-1 div.sk-parallel-item {display: flex;flex-direction: column;z-index: 1;position: relative;background-color: white;}#sk-container-id-1 div.sk-parallel-item:first-child::after {align-self: flex-end;width: 50%;}#sk-container-id-1 div.sk-parallel-item:last-child::after {align-self: flex-start;width: 50%;}#sk-container-id-1 div.sk-parallel-item:only-child::after {width: 0;}#sk-container-id-1 div.sk-dashed-wrapped {border: 1px dashed gray;margin: 0 0.4em 0.5em 0.4em;box-sizing: border-box;padding-bottom: 0.4em;background-color: white;}#sk-container-id-1 div.sk-label label {font-family: monospace;font-weight: bold;display: inline-block;line-height: 1.2em;}#sk-container-id-1 div.sk-label-container {text-align: center;}#sk-container-id-1 div.sk-container {/* jupyter's `normalize.less` sets `[hidden] { display: none; }` but bootstrap.min.css set `[hidden] { display: none !important; }` so we also need the `!important` here to be able to override the default hidden behavior on the sphinx rendered scikit-learn.org. See: https://github.com/scikit-learn/scikit-learn/issues/21755 */display: inline-block !important;position: relative;}#sk-container-id-1 div.sk-text-repr-fallback {display: none;}</style><div id=\"sk-container-id-1\" class=\"sk-top-container\"><div class=\"sk-text-repr-fallback\"><pre>LogisticRegression(n_jobs=1)</pre><b>In a Jupyter environment, please rerun this cell to show the HTML representation or trust the notebook. <br />On GitHub, the HTML representation is unable to render, please try loading this page with nbviewer.org.</b></div><div class=\"sk-container\" hidden><div class=\"sk-item\"><div class=\"sk-estimator sk-toggleable\"><input class=\"sk-toggleable__control sk-hidden--visually\" id=\"sk-estimator-id-1\" type=\"checkbox\" checked><label for=\"sk-estimator-id-1\" class=\"sk-toggleable__label sk-toggleable__label-arrow\">LogisticRegression</label><div class=\"sk-toggleable__content\"><pre>LogisticRegression(n_jobs=1)</pre></div></div></div></div></div>"
      ],
      "text/plain": [
       "LogisticRegression(n_jobs=1)"
      ]
     },
     "execution_count": 90,
     "metadata": {},
     "output_type": "execute_result"
    }
   ],
   "source": [
    "#import logit\n",
    "from sklearn.linear_model import LogisticRegression\n",
    "#fit logit\n",
    "logreg = LogisticRegression(n_jobs=1)\n",
    "logreg.fit(w2v_embed_df_train, Y_train)"
   ]
  },
  {
   "cell_type": "code",
   "execution_count": 92,
   "id": "ad4dabb1",
   "metadata": {},
   "outputs": [],
   "source": [
    "from sklearn.metrics import classification_report"
   ]
  },
  {
   "cell_type": "code",
   "execution_count": 93,
   "id": "cc03b5d5",
   "metadata": {},
   "outputs": [
    {
     "name": "stdout",
     "output_type": "stream",
     "text": [
      "              precision    recall  f1-score   support\n",
      "\n",
      "    negative       0.83      0.83      0.83      4988\n",
      "    positive       0.83      0.83      0.83      5012\n",
      "\n",
      "    accuracy                           0.83     10000\n",
      "   macro avg       0.83      0.83      0.83     10000\n",
      "weighted avg       0.83      0.83      0.83     10000\n",
      "\n"
     ]
    }
   ],
   "source": [
    "#evaluate performance on test set\n",
    "doc_vec_test=create_doc_vec(X_test)\n",
    "test_predictions_word2vec = logreg.predict(doc_vec_test)\n",
    "print(classification_report(Y_test,test_predictions_word2vec))"
   ]
  },
  {
   "cell_type": "code",
   "execution_count": 101,
   "id": "5d235acb",
   "metadata": {},
   "outputs": [
    {
     "data": {
      "text/plain": [
       "0.82585"
      ]
     },
     "execution_count": 101,
     "metadata": {},
     "output_type": "execute_result"
    }
   ],
   "source": [
    "train_predictions_word2vec=logreg.predict(w2v_embed_df_train)\n",
    "classification_report(Y_train, train_predictions_word2vec, output_dict=True)['accuracy']"
   ]
  },
  {
   "cell_type": "code",
   "execution_count": 102,
   "id": "32ccccab",
   "metadata": {},
   "outputs": [
    {
     "data": {
      "text/plain": [
       "0.8275"
      ]
     },
     "execution_count": 102,
     "metadata": {},
     "output_type": "execute_result"
    }
   ],
   "source": [
    "classification_report(Y_test, test_predictions_word2vec, output_dict=True)['accuracy']"
   ]
  },
  {
   "cell_type": "markdown",
   "id": "11afc19b",
   "metadata": {},
   "source": [
    "## Analysis:\n",
    "\n",
    "Given that the classes are balanced (roughly 50/50) I would say that the accuracy measure is appropriate, and that our model performed fairly well given that the accuracy was 83% on our test set and 82.5% on the training set. "
   ]
  },
  {
   "cell_type": "markdown",
   "id": "02c09b9d",
   "metadata": {},
   "source": [
    "## Part 2"
   ]
  },
  {
   "cell_type": "code",
   "execution_count": 103,
   "id": "aeba5f01",
   "metadata": {
    "scrolled": true
   },
   "outputs": [
    {
     "name": "stderr",
     "output_type": "stream",
     "text": [
      "2023-03-12 10:55:04,348 : INFO : collecting all words and their counts\n",
      "2023-03-12 10:55:04,350 : INFO : PROGRESS: at sentence #0, processed 0 words, keeping 0 word types\n",
      "2023-03-12 10:55:04,635 : INFO : PROGRESS: at sentence #10000, processed 2235115 words, keeping 34948 word types\n",
      "2023-03-12 10:55:04,883 : INFO : PROGRESS: at sentence #20000, processed 4471355 words, keeping 46592 word types\n",
      "2023-03-12 10:55:05,158 : INFO : PROGRESS: at sentence #30000, processed 6703795 words, keeping 55178 word types\n",
      "2023-03-12 10:55:05,397 : INFO : PROGRESS: at sentence #40000, processed 8930547 words, keeping 62430 word types\n",
      "2023-03-12 10:55:05,702 : INFO : collected 68818 word types from a corpus of 11176467 raw words and 50000 sentences\n",
      "2023-03-12 10:55:05,702 : INFO : Creating a fresh vocabulary\n",
      "2023-03-12 10:55:05,758 : INFO : Word2Vec lifecycle event {'msg': 'effective_min_count=5 retains 26588 unique words (38.64% of original 68818, drops 42230)', 'datetime': '2023-03-12T10:55:05.758768', 'gensim': '4.2.0', 'python': '3.8.11 (default, Aug 16 2021, 12:04:33) \\n[Clang 12.0.0 ]', 'platform': 'macOS-13.2.1-arm64-arm-64bit', 'event': 'prepare_vocab'}\n",
      "2023-03-12 10:55:05,759 : INFO : Word2Vec lifecycle event {'msg': 'effective_min_count=5 leaves 11108863 word corpus (99.40% of original 11176467, drops 67604)', 'datetime': '2023-03-12T10:55:05.759185', 'gensim': '4.2.0', 'python': '3.8.11 (default, Aug 16 2021, 12:04:33) \\n[Clang 12.0.0 ]', 'platform': 'macOS-13.2.1-arm64-arm-64bit', 'event': 'prepare_vocab'}\n",
      "2023-03-12 10:55:05,823 : INFO : deleting the raw counts dictionary of 68818 items\n",
      "2023-03-12 10:55:05,824 : INFO : sample=0.001 downsamples 48 most-common words\n",
      "2023-03-12 10:55:05,825 : INFO : Word2Vec lifecycle event {'msg': 'downsampling leaves estimated 8368333.100896217 word corpus (75.3%% of prior 11108863)', 'datetime': '2023-03-12T10:55:05.825234', 'gensim': '4.2.0', 'python': '3.8.11 (default, Aug 16 2021, 12:04:33) \\n[Clang 12.0.0 ]', 'platform': 'macOS-13.2.1-arm64-arm-64bit', 'event': 'prepare_vocab'}\n",
      "2023-03-12 10:55:05,935 : INFO : estimated required memory for 26588 words and 25 dimensions: 18611600 bytes\n",
      "2023-03-12 10:55:05,935 : INFO : resetting layer weights\n",
      "2023-03-12 10:55:05,939 : INFO : Word2Vec lifecycle event {'update': False, 'trim_rule': 'None', 'datetime': '2023-03-12T10:55:05.939941', 'gensim': '4.2.0', 'python': '3.8.11 (default, Aug 16 2021, 12:04:33) \\n[Clang 12.0.0 ]', 'platform': 'macOS-13.2.1-arm64-arm-64bit', 'event': 'build_vocab'}\n",
      "2023-03-12 10:55:05,940 : INFO : Word2Vec lifecycle event {'msg': 'training model with 3 workers on 26588 vocabulary and 25 features, using sg=1 hs=0 sample=0.001 negative=5 window=5 shrink_windows=True', 'datetime': '2023-03-12T10:55:05.940269', 'gensim': '4.2.0', 'python': '3.8.11 (default, Aug 16 2021, 12:04:33) \\n[Clang 12.0.0 ]', 'platform': 'macOS-13.2.1-arm64-arm-64bit', 'event': 'train'}\n",
      "2023-03-12 10:55:06,943 : INFO : EPOCH 0 - PROGRESS: at 13.84% examples, 1163751 words/s, in_qsize 5, out_qsize 0\n",
      "2023-03-12 10:55:07,948 : INFO : EPOCH 0 - PROGRESS: at 28.04% examples, 1173365 words/s, in_qsize 5, out_qsize 0\n",
      "2023-03-12 10:55:08,960 : INFO : EPOCH 0 - PROGRESS: at 41.95% examples, 1164821 words/s, in_qsize 5, out_qsize 0\n",
      "2023-03-12 10:55:09,961 : INFO : EPOCH 0 - PROGRESS: at 56.42% examples, 1175299 words/s, in_qsize 5, out_qsize 0\n",
      "2023-03-12 10:55:10,961 : INFO : EPOCH 0 - PROGRESS: at 70.72% examples, 1178750 words/s, in_qsize 5, out_qsize 0\n",
      "2023-03-12 10:55:11,967 : INFO : EPOCH 0 - PROGRESS: at 85.11% examples, 1181263 words/s, in_qsize 5, out_qsize 0\n",
      "2023-03-12 10:55:12,973 : INFO : EPOCH 0 - PROGRESS: at 99.32% examples, 1182005 words/s, in_qsize 5, out_qsize 0\n",
      "2023-03-12 10:55:13,018 : INFO : EPOCH 0: training on 11176467 raw words (8368165 effective words) took 7.1s, 1182621 effective words/s\n",
      "2023-03-12 10:55:14,025 : INFO : EPOCH 1 - PROGRESS: at 14.01% examples, 1172010 words/s, in_qsize 5, out_qsize 0\n",
      "2023-03-12 10:55:15,037 : INFO : EPOCH 1 - PROGRESS: at 27.70% examples, 1152018 words/s, in_qsize 5, out_qsize 0\n",
      "2023-03-12 10:55:16,041 : INFO : EPOCH 1 - PROGRESS: at 41.87% examples, 1160502 words/s, in_qsize 5, out_qsize 0\n",
      "2023-03-12 10:55:17,056 : INFO : EPOCH 1 - PROGRESS: at 56.05% examples, 1162372 words/s, in_qsize 5, out_qsize 0\n",
      "2023-03-12 10:55:18,065 : INFO : EPOCH 1 - PROGRESS: at 70.46% examples, 1168041 words/s, in_qsize 5, out_qsize 0\n",
      "2023-03-12 10:55:19,069 : INFO : EPOCH 1 - PROGRESS: at 84.94% examples, 1174000 words/s, in_qsize 5, out_qsize 0\n",
      "2023-03-12 10:55:20,070 : INFO : EPOCH 1 - PROGRESS: at 99.13% examples, 1176522 words/s, in_qsize 5, out_qsize 0\n",
      "2023-03-12 10:55:20,124 : INFO : EPOCH 1: training on 11176467 raw words (8368044 effective words) took 7.1s, 1177693 effective words/s\n",
      "2023-03-12 10:55:21,136 : INFO : EPOCH 2 - PROGRESS: at 14.28% examples, 1189607 words/s, in_qsize 5, out_qsize 0\n",
      "2023-03-12 10:55:22,145 : INFO : EPOCH 2 - PROGRESS: at 28.77% examples, 1195619 words/s, in_qsize 5, out_qsize 0\n",
      "2023-03-12 10:55:23,149 : INFO : EPOCH 2 - PROGRESS: at 43.28% examples, 1199203 words/s, in_qsize 5, out_qsize 0\n",
      "2023-03-12 10:55:24,150 : INFO : EPOCH 2 - PROGRESS: at 57.67% examples, 1199434 words/s, in_qsize 5, out_qsize 0\n",
      "2023-03-12 10:55:25,160 : INFO : EPOCH 2 - PROGRESS: at 72.21% examples, 1200071 words/s, in_qsize 5, out_qsize 0\n",
      "2023-03-12 10:55:26,170 : INFO : EPOCH 2 - PROGRESS: at 86.67% examples, 1200563 words/s, in_qsize 5, out_qsize 0\n",
      "2023-03-12 10:55:27,087 : INFO : EPOCH 2: training on 11176467 raw words (8367329 effective words) took 7.0s, 1202084 effective words/s\n",
      "2023-03-12 10:55:28,095 : INFO : EPOCH 3 - PROGRESS: at 14.28% examples, 1192731 words/s, in_qsize 5, out_qsize 0\n",
      "2023-03-12 10:55:29,099 : INFO : EPOCH 3 - PROGRESS: at 28.77% examples, 1200186 words/s, in_qsize 5, out_qsize 0\n",
      "2023-03-12 10:55:30,102 : INFO : EPOCH 3 - PROGRESS: at 43.28% examples, 1202858 words/s, in_qsize 5, out_qsize 0\n",
      "2023-03-12 10:55:31,106 : INFO : EPOCH 3 - PROGRESS: at 57.76% examples, 1203202 words/s, in_qsize 5, out_qsize 0\n",
      "2023-03-12 10:55:32,109 : INFO : EPOCH 3 - PROGRESS: at 72.21% examples, 1203386 words/s, in_qsize 5, out_qsize 0\n",
      "2023-03-12 10:55:33,114 : INFO : EPOCH 3 - PROGRESS: at 86.67% examples, 1204205 words/s, in_qsize 5, out_qsize 0\n",
      "2023-03-12 10:55:34,033 : INFO : EPOCH 3: training on 11176467 raw words (8368019 effective words) took 6.9s, 1204843 effective words/s\n",
      "2023-03-12 10:55:35,045 : INFO : EPOCH 4 - PROGRESS: at 14.28% examples, 1188462 words/s, in_qsize 5, out_qsize 0\n",
      "2023-03-12 10:55:36,047 : INFO : EPOCH 4 - PROGRESS: at 28.77% examples, 1198885 words/s, in_qsize 5, out_qsize 0\n",
      "2023-03-12 10:55:37,052 : INFO : EPOCH 4 - PROGRESS: at 42.81% examples, 1189067 words/s, in_qsize 5, out_qsize 0\n",
      "2023-03-12 10:55:38,056 : INFO : EPOCH 4 - PROGRESS: at 55.45% examples, 1154227 words/s, in_qsize 5, out_qsize 0\n",
      "2023-03-12 10:55:39,060 : INFO : EPOCH 4 - PROGRESS: at 68.63% examples, 1142145 words/s, in_qsize 5, out_qsize 0\n",
      "2023-03-12 10:55:40,061 : INFO : EPOCH 4 - PROGRESS: at 82.62% examples, 1145599 words/s, in_qsize 5, out_qsize 0\n",
      "2023-03-12 10:55:41,071 : INFO : EPOCH 4 - PROGRESS: at 96.72% examples, 1150871 words/s, in_qsize 5, out_qsize 0\n",
      "2023-03-12 10:55:41,293 : INFO : EPOCH 4: training on 11176467 raw words (8368777 effective words) took 7.3s, 1152960 effective words/s\n",
      "2023-03-12 10:55:41,294 : INFO : Word2Vec lifecycle event {'msg': 'training on 55882335 raw words (41840334 effective words) took 35.4s, 1183466 effective words/s', 'datetime': '2023-03-12T10:55:41.294302', 'gensim': '4.2.0', 'python': '3.8.11 (default, Aug 16 2021, 12:04:33) \\n[Clang 12.0.0 ]', 'platform': 'macOS-13.2.1-arm64-arm-64bit', 'event': 'train'}\n",
      "2023-03-12 10:55:41,294 : INFO : Word2Vec lifecycle event {'params': 'Word2Vec<vocab=26588, vector_size=25, alpha=0.025>', 'datetime': '2023-03-12T10:55:41.294941', 'gensim': '4.2.0', 'python': '3.8.11 (default, Aug 16 2021, 12:04:33) \\n[Clang 12.0.0 ]', 'platform': 'macOS-13.2.1-arm64-arm-64bit', 'event': 'created'}\n"
     ]
    },
    {
     "name": "stdout",
     "output_type": "stream",
     "text": [
      "CLASSIFICATION REPORT FOR SIZE= 25\n",
      "              precision    recall  f1-score   support\n",
      "\n",
      "    negative       0.83      0.83      0.83      4988\n",
      "    positive       0.83      0.83      0.83      5012\n",
      "\n",
      "    accuracy                           0.83     10000\n",
      "   macro avg       0.83      0.83      0.83     10000\n",
      "weighted avg       0.83      0.83      0.83     10000\n",
      "\n"
     ]
    },
    {
     "name": "stderr",
     "output_type": "stream",
     "text": [
      "2023-03-12 10:57:40,781 : INFO : collecting all words and their counts\n",
      "2023-03-12 10:57:40,782 : INFO : PROGRESS: at sentence #0, processed 0 words, keeping 0 word types\n",
      "2023-03-12 10:57:40,965 : INFO : PROGRESS: at sentence #10000, processed 2235115 words, keeping 34948 word types\n",
      "2023-03-12 10:57:41,178 : INFO : PROGRESS: at sentence #20000, processed 4471355 words, keeping 46592 word types\n",
      "2023-03-12 10:57:41,391 : INFO : PROGRESS: at sentence #30000, processed 6703795 words, keeping 55178 word types\n",
      "2023-03-12 10:57:41,608 : INFO : PROGRESS: at sentence #40000, processed 8930547 words, keeping 62430 word types\n",
      "2023-03-12 10:57:41,834 : INFO : collected 68818 word types from a corpus of 11176467 raw words and 50000 sentences\n",
      "2023-03-12 10:57:41,835 : INFO : Creating a fresh vocabulary\n",
      "2023-03-12 10:57:41,888 : INFO : Word2Vec lifecycle event {'msg': 'effective_min_count=5 retains 26588 unique words (38.64% of original 68818, drops 42230)', 'datetime': '2023-03-12T10:57:41.888001', 'gensim': '4.2.0', 'python': '3.8.11 (default, Aug 16 2021, 12:04:33) \\n[Clang 12.0.0 ]', 'platform': 'macOS-13.2.1-arm64-arm-64bit', 'event': 'prepare_vocab'}\n",
      "2023-03-12 10:57:41,888 : INFO : Word2Vec lifecycle event {'msg': 'effective_min_count=5 leaves 11108863 word corpus (99.40% of original 11176467, drops 67604)', 'datetime': '2023-03-12T10:57:41.888413', 'gensim': '4.2.0', 'python': '3.8.11 (default, Aug 16 2021, 12:04:33) \\n[Clang 12.0.0 ]', 'platform': 'macOS-13.2.1-arm64-arm-64bit', 'event': 'prepare_vocab'}\n",
      "2023-03-12 10:57:41,948 : INFO : deleting the raw counts dictionary of 68818 items\n",
      "2023-03-12 10:57:41,949 : INFO : sample=0.001 downsamples 48 most-common words\n",
      "2023-03-12 10:57:41,949 : INFO : Word2Vec lifecycle event {'msg': 'downsampling leaves estimated 8368333.100896217 word corpus (75.3%% of prior 11108863)', 'datetime': '2023-03-12T10:57:41.949635', 'gensim': '4.2.0', 'python': '3.8.11 (default, Aug 16 2021, 12:04:33) \\n[Clang 12.0.0 ]', 'platform': 'macOS-13.2.1-arm64-arm-64bit', 'event': 'prepare_vocab'}\n",
      "2023-03-12 10:57:42,051 : INFO : estimated required memory for 26588 words and 50 dimensions: 23929200 bytes\n",
      "2023-03-12 10:57:42,051 : INFO : resetting layer weights\n",
      "2023-03-12 10:57:42,055 : INFO : Word2Vec lifecycle event {'update': False, 'trim_rule': 'None', 'datetime': '2023-03-12T10:57:42.055870', 'gensim': '4.2.0', 'python': '3.8.11 (default, Aug 16 2021, 12:04:33) \\n[Clang 12.0.0 ]', 'platform': 'macOS-13.2.1-arm64-arm-64bit', 'event': 'build_vocab'}\n",
      "2023-03-12 10:57:42,056 : INFO : Word2Vec lifecycle event {'msg': 'training model with 3 workers on 26588 vocabulary and 50 features, using sg=1 hs=0 sample=0.001 negative=5 window=5 shrink_windows=True', 'datetime': '2023-03-12T10:57:42.056147', 'gensim': '4.2.0', 'python': '3.8.11 (default, Aug 16 2021, 12:04:33) \\n[Clang 12.0.0 ]', 'platform': 'macOS-13.2.1-arm64-arm-64bit', 'event': 'train'}\n",
      "2023-03-12 10:57:43,071 : INFO : EPOCH 0 - PROGRESS: at 11.37% examples, 946483 words/s, in_qsize 5, out_qsize 0\n",
      "2023-03-12 10:57:44,084 : INFO : EPOCH 0 - PROGRESS: at 22.93% examples, 951608 words/s, in_qsize 5, out_qsize 0\n",
      "2023-03-12 10:57:45,095 : INFO : EPOCH 0 - PROGRESS: at 34.61% examples, 954998 words/s, in_qsize 5, out_qsize 0\n",
      "2023-03-12 10:57:46,107 : INFO : EPOCH 0 - PROGRESS: at 46.15% examples, 955533 words/s, in_qsize 5, out_qsize 0\n",
      "2023-03-12 10:57:47,108 : INFO : EPOCH 0 - PROGRESS: at 57.60% examples, 954332 words/s, in_qsize 5, out_qsize 0\n",
      "2023-03-12 10:57:48,118 : INFO : EPOCH 0 - PROGRESS: at 69.19% examples, 955846 words/s, in_qsize 5, out_qsize 0\n",
      "2023-03-12 10:57:49,121 : INFO : EPOCH 0 - PROGRESS: at 80.78% examples, 955904 words/s, in_qsize 5, out_qsize 0\n",
      "2023-03-12 10:57:50,131 : INFO : EPOCH 0 - PROGRESS: at 91.27% examples, 947036 words/s, in_qsize 5, out_qsize 0\n",
      "2023-03-12 10:57:50,969 : INFO : EPOCH 0: training on 11176467 raw words (8368473 effective words) took 8.9s, 939148 effective words/s\n",
      "2023-03-12 10:57:51,977 : INFO : EPOCH 1 - PROGRESS: at 10.95% examples, 916367 words/s, in_qsize 5, out_qsize 0\n",
      "2023-03-12 10:57:52,978 : INFO : EPOCH 1 - PROGRESS: at 22.00% examples, 920606 words/s, in_qsize 5, out_qsize 0\n",
      "2023-03-12 10:57:53,995 : INFO : EPOCH 1 - PROGRESS: at 33.54% examples, 929597 words/s, in_qsize 5, out_qsize 0\n",
      "2023-03-12 10:57:55,001 : INFO : EPOCH 1 - PROGRESS: at 45.01% examples, 935956 words/s, in_qsize 5, out_qsize 0\n",
      "2023-03-12 10:57:56,002 : INFO : EPOCH 1 - PROGRESS: at 56.42% examples, 938601 words/s, in_qsize 5, out_qsize 0\n",
      "2023-03-12 10:57:57,016 : INFO : EPOCH 1 - PROGRESS: at 67.85% examples, 938257 words/s, in_qsize 5, out_qsize 0\n",
      "2023-03-12 10:57:58,027 : INFO : EPOCH 1 - PROGRESS: at 79.25% examples, 938860 words/s, in_qsize 5, out_qsize 0\n",
      "2023-03-12 10:57:59,031 : INFO : EPOCH 1 - PROGRESS: at 90.42% examples, 939266 words/s, in_qsize 5, out_qsize 0\n",
      "2023-03-12 10:57:59,864 : INFO : EPOCH 1: training on 11176467 raw words (8367594 effective words) took 8.9s, 940808 effective words/s\n",
      "2023-03-12 10:58:00,883 : INFO : EPOCH 2 - PROGRESS: at 11.37% examples, 943814 words/s, in_qsize 5, out_qsize 0\n",
      "2023-03-12 10:58:01,902 : INFO : EPOCH 2 - PROGRESS: at 22.93% examples, 947578 words/s, in_qsize 5, out_qsize 0\n",
      "2023-03-12 10:58:02,906 : INFO : EPOCH 2 - PROGRESS: at 34.52% examples, 951894 words/s, in_qsize 5, out_qsize 0\n",
      "2023-03-12 10:58:03,907 : INFO : EPOCH 2 - PROGRESS: at 45.87% examples, 952171 words/s, in_qsize 5, out_qsize 0\n",
      "2023-03-12 10:58:04,913 : INFO : EPOCH 2 - PROGRESS: at 57.50% examples, 953600 words/s, in_qsize 5, out_qsize 0\n",
      "2023-03-12 10:58:05,927 : INFO : EPOCH 2 - PROGRESS: at 69.11% examples, 954734 words/s, in_qsize 5, out_qsize 0\n",
      "2023-03-12 10:58:06,936 : INFO : EPOCH 2 - PROGRESS: at 80.87% examples, 956145 words/s, in_qsize 5, out_qsize 0\n",
      "2023-03-12 10:58:07,942 : INFO : EPOCH 2 - PROGRESS: at 91.73% examples, 951550 words/s, in_qsize 5, out_qsize 0\n",
      "2023-03-12 10:58:08,681 : INFO : EPOCH 2: training on 11176467 raw words (8369248 effective words) took 8.8s, 949520 effective words/s\n",
      "2023-03-12 10:58:09,693 : INFO : EPOCH 3 - PROGRESS: at 11.12% examples, 926542 words/s, in_qsize 5, out_qsize 0\n",
      "2023-03-12 10:58:10,700 : INFO : EPOCH 3 - PROGRESS: at 22.16% examples, 922889 words/s, in_qsize 5, out_qsize 0\n",
      "2023-03-12 10:58:11,719 : INFO : EPOCH 3 - PROGRESS: at 33.81% examples, 933135 words/s, in_qsize 5, out_qsize 0\n",
      "2023-03-12 10:58:12,721 : INFO : EPOCH 3 - PROGRESS: at 45.36% examples, 941221 words/s, in_qsize 5, out_qsize 0\n",
      "2023-03-12 10:58:13,725 : INFO : EPOCH 3 - PROGRESS: at 56.80% examples, 942518 words/s, in_qsize 5, out_qsize 0\n",
      "2023-03-12 10:58:14,728 : INFO : EPOCH 3 - PROGRESS: at 66.83% examples, 925033 words/s, in_qsize 5, out_qsize 0\n",
      "2023-03-12 10:58:15,733 : INFO : EPOCH 3 - PROGRESS: at 77.53% examples, 919825 words/s, in_qsize 5, out_qsize 0\n",
      "2023-03-12 10:58:16,742 : INFO : EPOCH 3 - PROGRESS: at 88.57% examples, 920142 words/s, in_qsize 5, out_qsize 0\n",
      "2023-03-12 10:58:17,751 : INFO : EPOCH 3 - PROGRESS: at 97.06% examples, 896167 words/s, in_qsize 5, out_qsize 0\n",
      "2023-03-12 10:58:18,058 : INFO : EPOCH 3: training on 11176467 raw words (8368697 effective words) took 9.4s, 892589 effective words/s\n",
      "2023-03-12 10:58:19,079 : INFO : EPOCH 4 - PROGRESS: at 10.87% examples, 897512 words/s, in_qsize 5, out_qsize 0\n",
      "2023-03-12 10:58:20,083 : INFO : EPOCH 4 - PROGRESS: at 21.64% examples, 899178 words/s, in_qsize 5, out_qsize 0\n",
      "2023-03-12 10:58:21,089 : INFO : EPOCH 4 - PROGRESS: at 32.95% examples, 911147 words/s, in_qsize 5, out_qsize 0\n",
      "2023-03-12 10:58:22,098 : INFO : EPOCH 4 - PROGRESS: at 44.08% examples, 914051 words/s, in_qsize 5, out_qsize 0\n",
      "2023-03-12 10:58:23,100 : INFO : EPOCH 4 - PROGRESS: at 54.93% examples, 912007 words/s, in_qsize 5, out_qsize 0\n",
      "2023-03-12 10:58:24,101 : INFO : EPOCH 4 - PROGRESS: at 66.21% examples, 917165 words/s, in_qsize 5, out_qsize 0\n",
      "2023-03-12 10:58:25,102 : INFO : EPOCH 4 - PROGRESS: at 77.25% examples, 917626 words/s, in_qsize 5, out_qsize 0\n",
      "2023-03-12 10:58:26,116 : INFO : EPOCH 4 - PROGRESS: at 87.98% examples, 914290 words/s, in_qsize 5, out_qsize 0\n",
      "2023-03-12 10:58:27,123 : INFO : EPOCH 4 - PROGRESS: at 98.60% examples, 910354 words/s, in_qsize 5, out_qsize 0\n",
      "2023-03-12 10:58:27,248 : INFO : EPOCH 4: training on 11176467 raw words (8367235 effective words) took 9.2s, 910606 effective words/s\n"
     ]
    },
    {
     "name": "stderr",
     "output_type": "stream",
     "text": [
      "2023-03-12 10:58:27,249 : INFO : Word2Vec lifecycle event {'msg': 'training on 55882335 raw words (41841247 effective words) took 45.2s, 925820 effective words/s', 'datetime': '2023-03-12T10:58:27.249513', 'gensim': '4.2.0', 'python': '3.8.11 (default, Aug 16 2021, 12:04:33) \\n[Clang 12.0.0 ]', 'platform': 'macOS-13.2.1-arm64-arm-64bit', 'event': 'train'}\n",
      "2023-03-12 10:58:27,249 : INFO : Word2Vec lifecycle event {'params': 'Word2Vec<vocab=26588, vector_size=50, alpha=0.025>', 'datetime': '2023-03-12T10:58:27.249796', 'gensim': '4.2.0', 'python': '3.8.11 (default, Aug 16 2021, 12:04:33) \\n[Clang 12.0.0 ]', 'platform': 'macOS-13.2.1-arm64-arm-64bit', 'event': 'created'}\n"
     ]
    },
    {
     "name": "stdout",
     "output_type": "stream",
     "text": [
      "CLASSIFICATION REPORT FOR SIZE= 50\n",
      "              precision    recall  f1-score   support\n",
      "\n",
      "    negative       0.85      0.85      0.85      4988\n",
      "    positive       0.85      0.85      0.85      5012\n",
      "\n",
      "    accuracy                           0.85     10000\n",
      "   macro avg       0.85      0.85      0.85     10000\n",
      "weighted avg       0.85      0.85      0.85     10000\n",
      "\n"
     ]
    },
    {
     "name": "stderr",
     "output_type": "stream",
     "text": [
      "2023-03-12 11:00:27,246 : INFO : collecting all words and their counts\n",
      "2023-03-12 11:00:27,246 : INFO : PROGRESS: at sentence #0, processed 0 words, keeping 0 word types\n",
      "2023-03-12 11:00:27,443 : INFO : PROGRESS: at sentence #10000, processed 2235115 words, keeping 34948 word types\n",
      "2023-03-12 11:00:27,652 : INFO : PROGRESS: at sentence #20000, processed 4471355 words, keeping 46592 word types\n",
      "2023-03-12 11:00:27,866 : INFO : PROGRESS: at sentence #30000, processed 6703795 words, keeping 55178 word types\n",
      "2023-03-12 11:00:28,092 : INFO : PROGRESS: at sentence #40000, processed 8930547 words, keeping 62430 word types\n",
      "2023-03-12 11:00:28,308 : INFO : collected 68818 word types from a corpus of 11176467 raw words and 50000 sentences\n",
      "2023-03-12 11:00:28,309 : INFO : Creating a fresh vocabulary\n",
      "2023-03-12 11:00:28,363 : INFO : Word2Vec lifecycle event {'msg': 'effective_min_count=5 retains 26588 unique words (38.64% of original 68818, drops 42230)', 'datetime': '2023-03-12T11:00:28.362861', 'gensim': '4.2.0', 'python': '3.8.11 (default, Aug 16 2021, 12:04:33) \\n[Clang 12.0.0 ]', 'platform': 'macOS-13.2.1-arm64-arm-64bit', 'event': 'prepare_vocab'}\n",
      "2023-03-12 11:00:28,363 : INFO : Word2Vec lifecycle event {'msg': 'effective_min_count=5 leaves 11108863 word corpus (99.40% of original 11176467, drops 67604)', 'datetime': '2023-03-12T11:00:28.363560', 'gensim': '4.2.0', 'python': '3.8.11 (default, Aug 16 2021, 12:04:33) \\n[Clang 12.0.0 ]', 'platform': 'macOS-13.2.1-arm64-arm-64bit', 'event': 'prepare_vocab'}\n",
      "2023-03-12 11:00:28,422 : INFO : deleting the raw counts dictionary of 68818 items\n",
      "2023-03-12 11:00:28,424 : INFO : sample=0.001 downsamples 48 most-common words\n",
      "2023-03-12 11:00:28,424 : INFO : Word2Vec lifecycle event {'msg': 'downsampling leaves estimated 8368333.100896217 word corpus (75.3%% of prior 11108863)', 'datetime': '2023-03-12T11:00:28.424555', 'gensim': '4.2.0', 'python': '3.8.11 (default, Aug 16 2021, 12:04:33) \\n[Clang 12.0.0 ]', 'platform': 'macOS-13.2.1-arm64-arm-64bit', 'event': 'prepare_vocab'}\n",
      "2023-03-12 11:00:28,529 : INFO : estimated required memory for 26588 words and 100 dimensions: 34564400 bytes\n",
      "2023-03-12 11:00:28,529 : INFO : resetting layer weights\n",
      "2023-03-12 11:00:28,537 : INFO : Word2Vec lifecycle event {'update': False, 'trim_rule': 'None', 'datetime': '2023-03-12T11:00:28.537969', 'gensim': '4.2.0', 'python': '3.8.11 (default, Aug 16 2021, 12:04:33) \\n[Clang 12.0.0 ]', 'platform': 'macOS-13.2.1-arm64-arm-64bit', 'event': 'build_vocab'}\n",
      "2023-03-12 11:00:28,538 : INFO : Word2Vec lifecycle event {'msg': 'training model with 3 workers on 26588 vocabulary and 100 features, using sg=1 hs=0 sample=0.001 negative=5 window=5 shrink_windows=True', 'datetime': '2023-03-12T11:00:28.538330', 'gensim': '4.2.0', 'python': '3.8.11 (default, Aug 16 2021, 12:04:33) \\n[Clang 12.0.0 ]', 'platform': 'macOS-13.2.1-arm64-arm-64bit', 'event': 'train'}\n",
      "2023-03-12 11:00:29,561 : INFO : EPOCH 0 - PROGRESS: at 8.62% examples, 701128 words/s, in_qsize 5, out_qsize 0\n",
      "2023-03-12 11:00:30,583 : INFO : EPOCH 0 - PROGRESS: at 17.20% examples, 706579 words/s, in_qsize 5, out_qsize 0\n",
      "2023-03-12 11:00:31,602 : INFO : EPOCH 0 - PROGRESS: at 25.90% examples, 709554 words/s, in_qsize 5, out_qsize 0\n",
      "2023-03-12 11:00:32,621 : INFO : EPOCH 0 - PROGRESS: at 34.61% examples, 711265 words/s, in_qsize 5, out_qsize 0\n",
      "2023-03-12 11:00:33,631 : INFO : EPOCH 0 - PROGRESS: at 43.28% examples, 713084 words/s, in_qsize 5, out_qsize 0\n",
      "2023-03-12 11:00:34,653 : INFO : EPOCH 0 - PROGRESS: at 51.94% examples, 713461 words/s, in_qsize 5, out_qsize 0\n",
      "2023-03-12 11:00:35,670 : INFO : EPOCH 0 - PROGRESS: at 60.76% examples, 714218 words/s, in_qsize 5, out_qsize 0\n",
      "2023-03-12 11:00:36,692 : INFO : EPOCH 0 - PROGRESS: at 69.45% examples, 714276 words/s, in_qsize 5, out_qsize 0\n",
      "2023-03-12 11:00:37,712 : INFO : EPOCH 0 - PROGRESS: at 78.25% examples, 714623 words/s, in_qsize 5, out_qsize 0\n",
      "2023-03-12 11:00:38,731 : INFO : EPOCH 0 - PROGRESS: at 86.85% examples, 714634 words/s, in_qsize 5, out_qsize 0\n",
      "2023-03-12 11:00:39,741 : INFO : EPOCH 0 - PROGRESS: at 95.50% examples, 714983 words/s, in_qsize 5, out_qsize 0\n",
      "2023-03-12 11:00:40,256 : INFO : EPOCH 0: training on 11176467 raw words (8368165 effective words) took 11.7s, 715320 effective words/s\n",
      "2023-03-12 11:00:41,278 : INFO : EPOCH 1 - PROGRESS: at 8.62% examples, 702882 words/s, in_qsize 6, out_qsize 1\n",
      "2023-03-12 11:00:42,295 : INFO : EPOCH 1 - PROGRESS: at 17.20% examples, 709195 words/s, in_qsize 5, out_qsize 0\n",
      "2023-03-12 11:00:43,310 : INFO : EPOCH 1 - PROGRESS: at 25.90% examples, 711918 words/s, in_qsize 5, out_qsize 0\n",
      "2023-03-12 11:00:44,327 : INFO : EPOCH 1 - PROGRESS: at 34.61% examples, 713276 words/s, in_qsize 5, out_qsize 0\n",
      "2023-03-12 11:00:45,331 : INFO : EPOCH 1 - PROGRESS: at 43.28% examples, 715453 words/s, in_qsize 5, out_qsize 0\n",
      "2023-03-12 11:00:46,345 : INFO : EPOCH 1 - PROGRESS: at 51.94% examples, 716169 words/s, in_qsize 5, out_qsize 0\n",
      "2023-03-12 11:00:47,360 : INFO : EPOCH 1 - PROGRESS: at 60.76% examples, 716572 words/s, in_qsize 5, out_qsize 0\n",
      "2023-03-12 11:00:48,376 : INFO : EPOCH 1 - PROGRESS: at 69.45% examples, 716850 words/s, in_qsize 5, out_qsize 0\n",
      "2023-03-12 11:00:49,395 : INFO : EPOCH 1 - PROGRESS: at 78.25% examples, 717040 words/s, in_qsize 5, out_qsize 0\n",
      "2023-03-12 11:00:50,412 : INFO : EPOCH 1 - PROGRESS: at 86.85% examples, 716798 words/s, in_qsize 5, out_qsize 0\n",
      "2023-03-12 11:00:51,420 : INFO : EPOCH 1 - PROGRESS: at 95.50% examples, 717169 words/s, in_qsize 5, out_qsize 0\n",
      "2023-03-12 11:00:51,931 : INFO : EPOCH 1: training on 11176467 raw words (8368816 effective words) took 11.7s, 717534 effective words/s\n",
      "2023-03-12 11:00:52,954 : INFO : EPOCH 2 - PROGRESS: at 8.62% examples, 702840 words/s, in_qsize 5, out_qsize 0\n",
      "2023-03-12 11:00:53,967 : INFO : EPOCH 2 - PROGRESS: at 17.20% examples, 710773 words/s, in_qsize 5, out_qsize 0\n",
      "2023-03-12 11:00:54,971 : INFO : EPOCH 2 - PROGRESS: at 25.82% examples, 713056 words/s, in_qsize 6, out_qsize 0\n",
      "2023-03-12 11:00:55,995 : INFO : EPOCH 2 - PROGRESS: at 34.34% examples, 709132 words/s, in_qsize 5, out_qsize 0\n",
      "2023-03-12 11:00:57,005 : INFO : EPOCH 2 - PROGRESS: at 43.01% examples, 711003 words/s, in_qsize 5, out_qsize 0\n",
      "2023-03-12 11:00:58,022 : INFO : EPOCH 2 - PROGRESS: at 51.41% examples, 708245 words/s, in_qsize 5, out_qsize 0\n",
      "2023-03-12 11:00:59,030 : INFO : EPOCH 2 - PROGRESS: at 60.09% examples, 708410 words/s, in_qsize 5, out_qsize 0\n",
      "2023-03-12 11:01:00,033 : INFO : EPOCH 2 - PROGRESS: at 68.38% examples, 706246 words/s, in_qsize 5, out_qsize 0\n",
      "2023-03-12 11:01:01,058 : INFO : EPOCH 2 - PROGRESS: at 76.99% examples, 706233 words/s, in_qsize 5, out_qsize 0\n",
      "2023-03-12 11:01:02,061 : INFO : EPOCH 2 - PROGRESS: at 85.62% examples, 707446 words/s, in_qsize 5, out_qsize 0\n",
      "2023-03-12 11:01:03,081 : INFO : EPOCH 2 - PROGRESS: at 93.99% examples, 706465 words/s, in_qsize 5, out_qsize 0\n",
      "2023-03-12 11:01:03,766 : INFO : EPOCH 2: training on 11176467 raw words (8367526 effective words) took 11.8s, 707510 effective words/s\n",
      "2023-03-12 11:01:04,789 : INFO : EPOCH 3 - PROGRESS: at 8.62% examples, 702576 words/s, in_qsize 5, out_qsize 0\n",
      "2023-03-12 11:01:05,803 : INFO : EPOCH 3 - PROGRESS: at 17.20% examples, 710003 words/s, in_qsize 5, out_qsize 0\n",
      "2023-03-12 11:01:06,805 : INFO : EPOCH 3 - PROGRESS: at 25.82% examples, 713210 words/s, in_qsize 5, out_qsize 0\n",
      "2023-03-12 11:01:07,826 : INFO : EPOCH 3 - PROGRESS: at 34.34% examples, 709730 words/s, in_qsize 5, out_qsize 0\n",
      "2023-03-12 11:01:08,827 : INFO : EPOCH 3 - PROGRESS: at 42.81% examples, 709977 words/s, in_qsize 5, out_qsize 0\n",
      "2023-03-12 11:01:09,844 : INFO : EPOCH 3 - PROGRESS: at 51.41% examples, 709960 words/s, in_qsize 5, out_qsize 0\n",
      "2023-03-12 11:01:10,868 : INFO : EPOCH 3 - PROGRESS: at 60.26% examples, 710395 words/s, in_qsize 5, out_qsize 0\n",
      "2023-03-12 11:01:11,870 : INFO : EPOCH 3 - PROGRESS: at 68.80% examples, 710781 words/s, in_qsize 5, out_qsize 0\n",
      "2023-03-12 11:01:12,882 : INFO : EPOCH 3 - PROGRESS: at 77.44% examples, 711230 words/s, in_qsize 5, out_qsize 0\n",
      "2023-03-12 11:01:13,886 : INFO : EPOCH 3 - PROGRESS: at 86.04% examples, 711869 words/s, in_qsize 5, out_qsize 0\n",
      "2023-03-12 11:01:14,913 : INFO : EPOCH 3 - PROGRESS: at 94.63% examples, 711344 words/s, in_qsize 5, out_qsize 0\n"
     ]
    },
    {
     "name": "stderr",
     "output_type": "stream",
     "text": [
      "2023-03-12 11:01:15,522 : INFO : EPOCH 3: training on 11176467 raw words (8370450 effective words) took 11.8s, 712318 effective words/s\n",
      "2023-03-12 11:01:16,543 : INFO : EPOCH 4 - PROGRESS: at 8.62% examples, 703434 words/s, in_qsize 5, out_qsize 0\n",
      "2023-03-12 11:01:17,561 : INFO : EPOCH 4 - PROGRESS: at 17.20% examples, 709270 words/s, in_qsize 5, out_qsize 0\n",
      "2023-03-12 11:01:18,579 : INFO : EPOCH 4 - PROGRESS: at 25.90% examples, 710983 words/s, in_qsize 5, out_qsize 0\n",
      "2023-03-12 11:01:19,602 : INFO : EPOCH 4 - PROGRESS: at 34.61% examples, 711321 words/s, in_qsize 5, out_qsize 0\n",
      "2023-03-12 11:01:20,608 : INFO : EPOCH 4 - PROGRESS: at 43.28% examples, 713393 words/s, in_qsize 5, out_qsize 0\n",
      "2023-03-12 11:01:21,625 : INFO : EPOCH 4 - PROGRESS: at 51.94% examples, 713871 words/s, in_qsize 5, out_qsize 0\n",
      "2023-03-12 11:01:22,642 : INFO : EPOCH 4 - PROGRESS: at 60.76% examples, 714461 words/s, in_qsize 5, out_qsize 0\n",
      "2023-03-12 11:01:23,660 : INFO : EPOCH 4 - PROGRESS: at 69.45% examples, 714749 words/s, in_qsize 5, out_qsize 0\n",
      "2023-03-12 11:01:24,677 : INFO : EPOCH 4 - PROGRESS: at 78.25% examples, 715064 words/s, in_qsize 5, out_qsize 0\n",
      "2023-03-12 11:01:25,691 : INFO : EPOCH 4 - PROGRESS: at 86.85% examples, 715187 words/s, in_qsize 5, out_qsize 0\n",
      "2023-03-12 11:01:26,691 : INFO : EPOCH 4 - PROGRESS: at 95.42% examples, 715458 words/s, in_qsize 5, out_qsize 0\n",
      "2023-03-12 11:01:27,229 : INFO : EPOCH 4: training on 11176467 raw words (8367215 effective words) took 11.7s, 714933 effective words/s\n",
      "2023-03-12 11:01:27,230 : INFO : Word2Vec lifecycle event {'msg': 'training on 55882335 raw words (41842172 effective words) took 58.7s, 713388 effective words/s', 'datetime': '2023-03-12T11:01:27.230013', 'gensim': '4.2.0', 'python': '3.8.11 (default, Aug 16 2021, 12:04:33) \\n[Clang 12.0.0 ]', 'platform': 'macOS-13.2.1-arm64-arm-64bit', 'event': 'train'}\n",
      "2023-03-12 11:01:27,230 : INFO : Word2Vec lifecycle event {'params': 'Word2Vec<vocab=26588, vector_size=100, alpha=0.025>', 'datetime': '2023-03-12T11:01:27.230293', 'gensim': '4.2.0', 'python': '3.8.11 (default, Aug 16 2021, 12:04:33) \\n[Clang 12.0.0 ]', 'platform': 'macOS-13.2.1-arm64-arm-64bit', 'event': 'created'}\n",
      "/Users/jakebrophy/miniforge3/envs/myenv/lib/python3.8/site-packages/sklearn/linear_model/_logistic.py:444: ConvergenceWarning: lbfgs failed to converge (status=1):\n",
      "STOP: TOTAL NO. of ITERATIONS REACHED LIMIT.\n",
      "\n",
      "Increase the number of iterations (max_iter) or scale the data as shown in:\n",
      "    https://scikit-learn.org/stable/modules/preprocessing.html\n",
      "Please also refer to the documentation for alternative solver options:\n",
      "    https://scikit-learn.org/stable/modules/linear_model.html#logistic-regression\n",
      "  n_iter_i = _check_optimize_result(\n"
     ]
    },
    {
     "name": "stdout",
     "output_type": "stream",
     "text": [
      "CLASSIFICATION REPORT FOR SIZE= 100\n",
      "              precision    recall  f1-score   support\n",
      "\n",
      "    negative       0.86      0.86      0.86      4988\n",
      "    positive       0.86      0.86      0.86      5012\n",
      "\n",
      "    accuracy                           0.86     10000\n",
      "   macro avg       0.86      0.86      0.86     10000\n",
      "weighted avg       0.86      0.86      0.86     10000\n",
      "\n"
     ]
    },
    {
     "name": "stderr",
     "output_type": "stream",
     "text": [
      "2023-03-12 11:03:28,758 : INFO : collecting all words and their counts\n",
      "2023-03-12 11:03:28,759 : INFO : PROGRESS: at sentence #0, processed 0 words, keeping 0 word types\n",
      "2023-03-12 11:03:28,941 : INFO : PROGRESS: at sentence #10000, processed 2235115 words, keeping 34948 word types\n",
      "2023-03-12 11:03:29,138 : INFO : PROGRESS: at sentence #20000, processed 4471355 words, keeping 46592 word types\n",
      "2023-03-12 11:03:29,337 : INFO : PROGRESS: at sentence #30000, processed 6703795 words, keeping 55178 word types\n",
      "2023-03-12 11:03:29,544 : INFO : PROGRESS: at sentence #40000, processed 8930547 words, keeping 62430 word types\n",
      "2023-03-12 11:03:29,746 : INFO : collected 68818 word types from a corpus of 11176467 raw words and 50000 sentences\n",
      "2023-03-12 11:03:29,747 : INFO : Creating a fresh vocabulary\n",
      "2023-03-12 11:03:29,798 : INFO : Word2Vec lifecycle event {'msg': 'effective_min_count=5 retains 26588 unique words (38.64% of original 68818, drops 42230)', 'datetime': '2023-03-12T11:03:29.798498', 'gensim': '4.2.0', 'python': '3.8.11 (default, Aug 16 2021, 12:04:33) \\n[Clang 12.0.0 ]', 'platform': 'macOS-13.2.1-arm64-arm-64bit', 'event': 'prepare_vocab'}\n",
      "2023-03-12 11:03:29,798 : INFO : Word2Vec lifecycle event {'msg': 'effective_min_count=5 leaves 11108863 word corpus (99.40% of original 11176467, drops 67604)', 'datetime': '2023-03-12T11:03:29.798897', 'gensim': '4.2.0', 'python': '3.8.11 (default, Aug 16 2021, 12:04:33) \\n[Clang 12.0.0 ]', 'platform': 'macOS-13.2.1-arm64-arm-64bit', 'event': 'prepare_vocab'}\n",
      "2023-03-12 11:03:29,859 : INFO : deleting the raw counts dictionary of 68818 items\n",
      "2023-03-12 11:03:29,860 : INFO : sample=0.001 downsamples 48 most-common words\n",
      "2023-03-12 11:03:29,860 : INFO : Word2Vec lifecycle event {'msg': 'downsampling leaves estimated 8368333.100896217 word corpus (75.3%% of prior 11108863)', 'datetime': '2023-03-12T11:03:29.860924', 'gensim': '4.2.0', 'python': '3.8.11 (default, Aug 16 2021, 12:04:33) \\n[Clang 12.0.0 ]', 'platform': 'macOS-13.2.1-arm64-arm-64bit', 'event': 'prepare_vocab'}\n",
      "2023-03-12 11:03:29,962 : INFO : estimated required memory for 26588 words and 150 dimensions: 45199600 bytes\n",
      "2023-03-12 11:03:29,963 : INFO : resetting layer weights\n",
      "2023-03-12 11:03:29,975 : INFO : Word2Vec lifecycle event {'update': False, 'trim_rule': 'None', 'datetime': '2023-03-12T11:03:29.975002', 'gensim': '4.2.0', 'python': '3.8.11 (default, Aug 16 2021, 12:04:33) \\n[Clang 12.0.0 ]', 'platform': 'macOS-13.2.1-arm64-arm-64bit', 'event': 'build_vocab'}\n",
      "2023-03-12 11:03:29,975 : INFO : Word2Vec lifecycle event {'msg': 'training model with 3 workers on 26588 vocabulary and 150 features, using sg=1 hs=0 sample=0.001 negative=5 window=5 shrink_windows=True', 'datetime': '2023-03-12T11:03:29.975398', 'gensim': '4.2.0', 'python': '3.8.11 (default, Aug 16 2021, 12:04:33) \\n[Clang 12.0.0 ]', 'platform': 'macOS-13.2.1-arm64-arm-64bit', 'event': 'train'}\n",
      "2023-03-12 11:03:30,984 : INFO : EPOCH 0 - PROGRESS: at 6.74% examples, 558384 words/s, in_qsize 5, out_qsize 0\n",
      "2023-03-12 11:03:31,989 : INFO : EPOCH 0 - PROGRESS: at 13.47% examples, 564515 words/s, in_qsize 5, out_qsize 0\n",
      "2023-03-12 11:03:32,991 : INFO : EPOCH 0 - PROGRESS: at 20.40% examples, 566996 words/s, in_qsize 5, out_qsize 0\n",
      "2023-03-12 11:03:33,995 : INFO : EPOCH 0 - PROGRESS: at 27.27% examples, 569562 words/s, in_qsize 5, out_qsize 0\n",
      "2023-03-12 11:03:34,998 : INFO : EPOCH 0 - PROGRESS: at 34.16% examples, 570287 words/s, in_qsize 5, out_qsize 0\n",
      "2023-03-12 11:03:36,002 : INFO : EPOCH 0 - PROGRESS: at 41.08% examples, 571258 words/s, in_qsize 5, out_qsize 0\n",
      "2023-03-12 11:03:37,002 : INFO : EPOCH 0 - PROGRESS: at 47.92% examples, 571728 words/s, in_qsize 5, out_qsize 0\n",
      "2023-03-12 11:03:38,002 : INFO : EPOCH 0 - PROGRESS: at 54.85% examples, 572029 words/s, in_qsize 5, out_qsize 0\n",
      "2023-03-12 11:03:39,002 : INFO : EPOCH 0 - PROGRESS: at 61.52% examples, 570770 words/s, in_qsize 5, out_qsize 0\n",
      "2023-03-12 11:03:40,007 : INFO : EPOCH 0 - PROGRESS: at 68.45% examples, 570888 words/s, in_qsize 5, out_qsize 0\n",
      "2023-03-12 11:03:41,010 : INFO : EPOCH 0 - PROGRESS: at 75.32% examples, 571153 words/s, in_qsize 5, out_qsize 0\n",
      "2023-03-12 11:03:42,018 : INFO : EPOCH 0 - PROGRESS: at 82.32% examples, 571624 words/s, in_qsize 5, out_qsize 0\n",
      "2023-03-12 11:03:43,020 : INFO : EPOCH 0 - PROGRESS: at 89.07% examples, 572123 words/s, in_qsize 5, out_qsize 0\n",
      "2023-03-12 11:03:44,023 : INFO : EPOCH 0 - PROGRESS: at 95.90% examples, 571995 words/s, in_qsize 5, out_qsize 0\n",
      "2023-03-12 11:03:44,613 : INFO : EPOCH 0: training on 11176467 raw words (8369601 effective words) took 14.6s, 571868 effective words/s\n",
      "2023-03-12 11:03:45,621 : INFO : EPOCH 1 - PROGRESS: at 6.74% examples, 557995 words/s, in_qsize 5, out_qsize 0\n",
      "2023-03-12 11:03:46,621 : INFO : EPOCH 1 - PROGRESS: at 13.47% examples, 565614 words/s, in_qsize 5, out_qsize 0\n",
      "2023-03-12 11:03:47,624 : INFO : EPOCH 1 - PROGRESS: at 20.47% examples, 570234 words/s, in_qsize 5, out_qsize 0\n",
      "2023-03-12 11:03:48,627 : INFO : EPOCH 1 - PROGRESS: at 27.36% examples, 572190 words/s, in_qsize 5, out_qsize 0\n",
      "2023-03-12 11:03:49,627 : INFO : EPOCH 1 - PROGRESS: at 34.26% examples, 572659 words/s, in_qsize 6, out_qsize 0\n",
      "2023-03-12 11:03:50,632 : INFO : EPOCH 1 - PROGRESS: at 41.08% examples, 571909 words/s, in_qsize 5, out_qsize 0\n",
      "2023-03-12 11:03:51,656 : INFO : EPOCH 1 - PROGRESS: at 48.01% examples, 571323 words/s, in_qsize 5, out_qsize 0\n",
      "2023-03-12 11:03:52,656 : INFO : EPOCH 1 - PROGRESS: at 54.93% examples, 571679 words/s, in_qsize 5, out_qsize 0\n",
      "2023-03-12 11:03:53,657 : INFO : EPOCH 1 - PROGRESS: at 61.80% examples, 572053 words/s, in_qsize 5, out_qsize 0\n",
      "2023-03-12 11:03:54,657 : INFO : EPOCH 1 - PROGRESS: at 68.71% examples, 572271 words/s, in_qsize 5, out_qsize 0\n",
      "2023-03-12 11:03:55,661 : INFO : EPOCH 1 - PROGRESS: at 75.58% examples, 572340 words/s, in_qsize 5, out_qsize 0\n",
      "2023-03-12 11:03:56,690 : INFO : EPOCH 1 - PROGRESS: at 82.62% examples, 571699 words/s, in_qsize 5, out_qsize 0\n",
      "2023-03-12 11:03:57,694 : INFO : EPOCH 1 - PROGRESS: at 89.33% examples, 572050 words/s, in_qsize 5, out_qsize 0\n",
      "2023-03-12 11:03:58,700 : INFO : EPOCH 1 - PROGRESS: at 96.18% examples, 571780 words/s, in_qsize 5, out_qsize 0\n",
      "2023-03-12 11:03:59,236 : INFO : EPOCH 1: training on 11176467 raw words (8367866 effective words) took 14.6s, 572282 effective words/s\n",
      "2023-03-12 11:04:00,246 : INFO : EPOCH 2 - PROGRESS: at 6.74% examples, 556409 words/s, in_qsize 5, out_qsize 0\n",
      "2023-03-12 11:04:01,247 : INFO : EPOCH 2 - PROGRESS: at 13.47% examples, 564685 words/s, in_qsize 5, out_qsize 0\n",
      "2023-03-12 11:04:02,248 : INFO : EPOCH 2 - PROGRESS: at 20.40% examples, 567306 words/s, in_qsize 5, out_qsize 0\n",
      "2023-03-12 11:04:03,250 : INFO : EPOCH 2 - PROGRESS: at 27.27% examples, 570070 words/s, in_qsize 5, out_qsize 0\n",
      "2023-03-12 11:04:04,252 : INFO : EPOCH 2 - PROGRESS: at 34.16% examples, 570815 words/s, in_qsize 5, out_qsize 0\n",
      "2023-03-12 11:04:05,254 : INFO : EPOCH 2 - PROGRESS: at 41.08% examples, 571867 words/s, in_qsize 5, out_qsize 0\n",
      "2023-03-12 11:04:06,284 : INFO : EPOCH 2 - PROGRESS: at 48.01% examples, 570963 words/s, in_qsize 5, out_qsize 0\n",
      "2023-03-12 11:04:07,285 : INFO : EPOCH 2 - PROGRESS: at 54.93% examples, 571246 words/s, in_qsize 5, out_qsize 0\n",
      "2023-03-12 11:04:08,292 : INFO : EPOCH 2 - PROGRESS: at 61.89% examples, 572087 words/s, in_qsize 5, out_qsize 0\n",
      "2023-03-12 11:04:09,293 : INFO : EPOCH 2 - PROGRESS: at 68.80% examples, 572221 words/s, in_qsize 5, out_qsize 0\n",
      "2023-03-12 11:04:10,302 : INFO : EPOCH 2 - PROGRESS: at 75.66% examples, 572007 words/s, in_qsize 5, out_qsize 0\n",
      "2023-03-12 11:04:11,307 : INFO : EPOCH 2 - PROGRESS: at 82.62% examples, 571929 words/s, in_qsize 5, out_qsize 0\n",
      "2023-03-12 11:04:12,317 : INFO : EPOCH 2 - PROGRESS: at 89.42% examples, 572577 words/s, in_qsize 5, out_qsize 0\n",
      "2023-03-12 11:04:13,335 : INFO : EPOCH 2 - PROGRESS: at 96.38% examples, 572308 words/s, in_qsize 5, out_qsize 0\n",
      "2023-03-12 11:04:13,842 : INFO : EPOCH 2: training on 11176467 raw words (8367242 effective words) took 14.6s, 572906 effective words/s\n",
      "2023-03-12 11:04:14,846 : INFO : EPOCH 3 - PROGRESS: at 6.74% examples, 560398 words/s, in_qsize 5, out_qsize 0\n",
      "2023-03-12 11:04:15,847 : INFO : EPOCH 3 - PROGRESS: at 13.55% examples, 570078 words/s, in_qsize 5, out_qsize 0\n"
     ]
    },
    {
     "name": "stderr",
     "output_type": "stream",
     "text": [
      "2023-03-12 11:04:16,874 : INFO : EPOCH 3 - PROGRESS: at 20.40% examples, 563862 words/s, in_qsize 5, out_qsize 0\n",
      "2023-03-12 11:04:17,877 : INFO : EPOCH 3 - PROGRESS: at 27.27% examples, 567392 words/s, in_qsize 5, out_qsize 0\n",
      "2023-03-12 11:04:18,877 : INFO : EPOCH 3 - PROGRESS: at 34.26% examples, 570352 words/s, in_qsize 5, out_qsize 0\n",
      "2023-03-12 11:04:19,887 : INFO : EPOCH 3 - PROGRESS: at 41.08% examples, 569543 words/s, in_qsize 5, out_qsize 0\n",
      "2023-03-12 11:04:20,891 : INFO : EPOCH 3 - PROGRESS: at 47.92% examples, 569846 words/s, in_qsize 5, out_qsize 0\n",
      "2023-03-12 11:04:21,911 : INFO : EPOCH 3 - PROGRESS: at 54.93% examples, 569860 words/s, in_qsize 5, out_qsize 0\n",
      "2023-03-12 11:04:22,914 : INFO : EPOCH 3 - PROGRESS: at 61.80% examples, 570332 words/s, in_qsize 5, out_qsize 0\n",
      "2023-03-12 11:04:23,915 : INFO : EPOCH 3 - PROGRESS: at 68.71% examples, 570626 words/s, in_qsize 5, out_qsize 0\n",
      "2023-03-12 11:04:24,916 : INFO : EPOCH 3 - PROGRESS: at 75.49% examples, 570341 words/s, in_qsize 5, out_qsize 0\n",
      "2023-03-12 11:04:25,925 : INFO : EPOCH 3 - PROGRESS: at 82.43% examples, 570213 words/s, in_qsize 5, out_qsize 0\n",
      "2023-03-12 11:04:26,927 : INFO : EPOCH 3 - PROGRESS: at 89.07% examples, 570216 words/s, in_qsize 5, out_qsize 0\n",
      "2023-03-12 11:04:27,930 : INFO : EPOCH 3 - PROGRESS: at 95.90% examples, 570238 words/s, in_qsize 5, out_qsize 0\n",
      "2023-03-12 11:04:28,503 : INFO : EPOCH 3: training on 11176467 raw words (8368380 effective words) took 14.7s, 570818 effective words/s\n",
      "2023-03-12 11:04:29,510 : INFO : EPOCH 4 - PROGRESS: at 6.74% examples, 558809 words/s, in_qsize 5, out_qsize 0\n",
      "2023-03-12 11:04:30,513 : INFO : EPOCH 4 - PROGRESS: at 13.47% examples, 565015 words/s, in_qsize 5, out_qsize 0\n",
      "2023-03-12 11:04:31,515 : INFO : EPOCH 4 - PROGRESS: at 20.40% examples, 567429 words/s, in_qsize 5, out_qsize 0\n",
      "2023-03-12 11:04:32,520 : INFO : EPOCH 4 - PROGRESS: at 27.27% examples, 569862 words/s, in_qsize 5, out_qsize 0\n",
      "2023-03-12 11:04:33,520 : INFO : EPOCH 4 - PROGRESS: at 34.16% examples, 570781 words/s, in_qsize 5, out_qsize 0\n",
      "2023-03-12 11:04:34,526 : INFO : EPOCH 4 - PROGRESS: at 41.08% examples, 571646 words/s, in_qsize 5, out_qsize 0\n",
      "2023-03-12 11:04:35,527 : INFO : EPOCH 4 - PROGRESS: at 47.92% examples, 572024 words/s, in_qsize 5, out_qsize 0\n",
      "2023-03-12 11:04:36,553 : INFO : EPOCH 4 - PROGRESS: at 54.93% examples, 571318 words/s, in_qsize 5, out_qsize 0\n",
      "2023-03-12 11:04:37,555 : INFO : EPOCH 4 - PROGRESS: at 61.80% examples, 571689 words/s, in_qsize 5, out_qsize 0\n",
      "2023-03-12 11:04:38,556 : INFO : EPOCH 4 - PROGRESS: at 68.71% examples, 571904 words/s, in_qsize 5, out_qsize 0\n",
      "2023-03-12 11:04:39,560 : INFO : EPOCH 4 - PROGRESS: at 75.58% examples, 571991 words/s, in_qsize 5, out_qsize 0\n",
      "2023-03-12 11:04:40,570 : INFO : EPOCH 4 - PROGRESS: at 82.62% examples, 572285 words/s, in_qsize 5, out_qsize 0\n",
      "2023-03-12 11:04:41,593 : INFO : EPOCH 4 - PROGRESS: at 89.42% examples, 572281 words/s, in_qsize 5, out_qsize 0\n",
      "2023-03-12 11:04:42,604 : INFO : EPOCH 4 - PROGRESS: at 96.46% examples, 572835 words/s, in_qsize 5, out_qsize 0\n",
      "2023-03-12 11:04:43,117 : INFO : EPOCH 4: training on 11176467 raw words (8367994 effective words) took 14.6s, 572683 effective words/s\n",
      "2023-03-12 11:04:43,117 : INFO : Word2Vec lifecycle event {'msg': 'training on 55882335 raw words (41841083 effective words) took 73.1s, 572050 effective words/s', 'datetime': '2023-03-12T11:04:43.117874', 'gensim': '4.2.0', 'python': '3.8.11 (default, Aug 16 2021, 12:04:33) \\n[Clang 12.0.0 ]', 'platform': 'macOS-13.2.1-arm64-arm-64bit', 'event': 'train'}\n",
      "2023-03-12 11:04:43,118 : INFO : Word2Vec lifecycle event {'params': 'Word2Vec<vocab=26588, vector_size=150, alpha=0.025>', 'datetime': '2023-03-12T11:04:43.118097', 'gensim': '4.2.0', 'python': '3.8.11 (default, Aug 16 2021, 12:04:33) \\n[Clang 12.0.0 ]', 'platform': 'macOS-13.2.1-arm64-arm-64bit', 'event': 'created'}\n",
      "/Users/jakebrophy/miniforge3/envs/myenv/lib/python3.8/site-packages/sklearn/linear_model/_logistic.py:444: ConvergenceWarning: lbfgs failed to converge (status=1):\n",
      "STOP: TOTAL NO. of ITERATIONS REACHED LIMIT.\n",
      "\n",
      "Increase the number of iterations (max_iter) or scale the data as shown in:\n",
      "    https://scikit-learn.org/stable/modules/preprocessing.html\n",
      "Please also refer to the documentation for alternative solver options:\n",
      "    https://scikit-learn.org/stable/modules/linear_model.html#logistic-regression\n",
      "  n_iter_i = _check_optimize_result(\n"
     ]
    },
    {
     "name": "stdout",
     "output_type": "stream",
     "text": [
      "CLASSIFICATION REPORT FOR SIZE= 150\n",
      "              precision    recall  f1-score   support\n",
      "\n",
      "    negative       0.87      0.87      0.87      4988\n",
      "    positive       0.87      0.87      0.87      5012\n",
      "\n",
      "    accuracy                           0.87     10000\n",
      "   macro avg       0.87      0.87      0.87     10000\n",
      "weighted avg       0.87      0.87      0.87     10000\n",
      "\n"
     ]
    }
   ],
   "source": [
    "#loop through output size\n",
    "test_acc=[]\n",
    "train_acc=[]\n",
    "for i in [25, 50, 100, 150]:\n",
    "    #fit w2v model\n",
    "    w2v_model = gensim.models.Word2Vec (stemmed_tokens, vector_size=i, window=5, min_count=5, sg=1)\n",
    "    #create doc embeddings df\n",
    "    w2v_embed_df_train=create_doc_vec(X_train)\n",
    "    #fit logit\n",
    "    logreg = LogisticRegression(n_jobs=1)\n",
    "    logreg.fit(w2v_embed_df_train, Y_train)\n",
    "    #create test doc vectors\n",
    "    doc_vec_test=create_doc_vec(X_test)\n",
    "    #evaluate predictions\n",
    "    test_predictions_word2vec = logreg.predict(doc_vec_test)\n",
    "    train_predictions_word2vec = logreg.predict(w2v_embed_df_train)\n",
    "    print('CLASSIFICATION REPORT FOR SIZE=',i)\n",
    "    print(classification_report(Y_test,test_predictions_word2vec))\n",
    "    test_acc.append(classification_report(Y_test, test_predictions_word2vec, output_dict=True)['accuracy'])\n",
    "    train_acc.append(classification_report(Y_train, train_predictions_word2vec, output_dict=True)['accuracy'])"
   ]
  },
  {
   "cell_type": "markdown",
   "id": "be8700cd",
   "metadata": {},
   "source": [
    "## Analysis:\n",
    "\n",
    "The accuracy increases for every increase in vector size, which makes sense because we are compressing the information into fewer dimensions preserving more of the initial meaning behind each word. The accuracy of a vector size of 25 was 83%, for vector size 50 it was 85%, for vector size 100 it was 86%, and for vector size 150 it was 87"
   ]
  },
  {
   "cell_type": "code",
   "execution_count": 114,
   "id": "7eb71678",
   "metadata": {},
   "outputs": [
    {
     "data": {
      "image/png": "[encoded data removed]",
      "text/plain": [
       "<Figure size 432x288 with 1 Axes>"
      ]
     },
     "metadata": {
      "needs_background": "light"
     },
     "output_type": "display_data"
    }
   ],
   "source": [
    "import matplotlib.pyplot as plt\n",
    "d={\"train\":train_acc,\n",
    "  \"test\":test_acc}\n",
    "acc_df=pd.DataFrame(d)\n",
    "acc_df.plot(style=['o','rx'], linestyle = 'dotted')\n",
    "plt.show()"
   ]
  },
  {
   "cell_type": "markdown",
   "id": "7b918d02",
   "metadata": {},
   "source": [
    "## Part 3"
   ]
  },
  {
   "cell_type": "code",
   "execution_count": 119,
   "id": "64ec4736",
   "metadata": {
    "scrolled": true
   },
   "outputs": [
    {
     "name": "stderr",
     "output_type": "stream",
     "text": [
      "2023-03-12 12:05:36,343 : INFO : collecting all words and their counts\n",
      "2023-03-12 12:05:36,344 : INFO : PROGRESS: at sentence #0, processed 0 words, keeping 0 word types\n",
      "2023-03-12 12:05:36,599 : INFO : PROGRESS: at sentence #10000, processed 2235115 words, keeping 34948 word types\n",
      "2023-03-12 12:05:36,850 : INFO : PROGRESS: at sentence #20000, processed 4471355 words, keeping 46592 word types\n",
      "2023-03-12 12:05:37,104 : INFO : PROGRESS: at sentence #30000, processed 6703795 words, keeping 55178 word types\n",
      "2023-03-12 12:05:37,351 : INFO : PROGRESS: at sentence #40000, processed 8930547 words, keeping 62430 word types\n",
      "2023-03-12 12:05:37,598 : INFO : collected 68818 word types from a corpus of 11176467 raw words and 50000 sentences\n",
      "2023-03-12 12:05:37,599 : INFO : Creating a fresh vocabulary\n",
      "2023-03-12 12:05:37,670 : INFO : Word2Vec lifecycle event {'msg': 'effective_min_count=5 retains 26588 unique words (38.64% of original 68818, drops 42230)', 'datetime': '2023-03-12T12:05:37.670404', 'gensim': '4.2.0', 'python': '3.8.11 (default, Aug 16 2021, 12:04:33) \\n[Clang 12.0.0 ]', 'platform': 'macOS-13.2.1-arm64-arm-64bit', 'event': 'prepare_vocab'}\n",
      "2023-03-12 12:05:37,671 : INFO : Word2Vec lifecycle event {'msg': 'effective_min_count=5 leaves 11108863 word corpus (99.40% of original 11176467, drops 67604)', 'datetime': '2023-03-12T12:05:37.671025', 'gensim': '4.2.0', 'python': '3.8.11 (default, Aug 16 2021, 12:04:33) \\n[Clang 12.0.0 ]', 'platform': 'macOS-13.2.1-arm64-arm-64bit', 'event': 'prepare_vocab'}\n",
      "2023-03-12 12:05:37,738 : INFO : deleting the raw counts dictionary of 68818 items\n",
      "2023-03-12 12:05:37,739 : INFO : sample=0.001 downsamples 48 most-common words\n",
      "2023-03-12 12:05:37,740 : INFO : Word2Vec lifecycle event {'msg': 'downsampling leaves estimated 8368333.100896217 word corpus (75.3%% of prior 11108863)', 'datetime': '2023-03-12T12:05:37.740504', 'gensim': '4.2.0', 'python': '3.8.11 (default, Aug 16 2021, 12:04:33) \\n[Clang 12.0.0 ]', 'platform': 'macOS-13.2.1-arm64-arm-64bit', 'event': 'prepare_vocab'}\n",
      "2023-03-12 12:05:37,851 : INFO : estimated required memory for 26588 words and 100 dimensions: 34564400 bytes\n",
      "2023-03-12 12:05:37,851 : INFO : resetting layer weights\n",
      "2023-03-12 12:05:37,862 : INFO : Word2Vec lifecycle event {'update': False, 'trim_rule': 'None', 'datetime': '2023-03-12T12:05:37.862222', 'gensim': '4.2.0', 'python': '3.8.11 (default, Aug 16 2021, 12:04:33) \\n[Clang 12.0.0 ]', 'platform': 'macOS-13.2.1-arm64-arm-64bit', 'event': 'build_vocab'}\n",
      "2023-03-12 12:05:37,862 : INFO : Word2Vec lifecycle event {'msg': 'training model with 3 workers on 26588 vocabulary and 100 features, using sg=1 hs=0 sample=0.001 negative=5 window=2 shrink_windows=True', 'datetime': '2023-03-12T12:05:37.862735', 'gensim': '4.2.0', 'python': '3.8.11 (default, Aug 16 2021, 12:04:33) \\n[Clang 12.0.0 ]', 'platform': 'macOS-13.2.1-arm64-arm-64bit', 'event': 'train'}\n",
      "2023-03-12 12:05:38,867 : INFO : EPOCH 0 - PROGRESS: at 15.00% examples, 1258944 words/s, in_qsize 5, out_qsize 0\n",
      "2023-03-12 12:05:39,869 : INFO : EPOCH 0 - PROGRESS: at 30.66% examples, 1282268 words/s, in_qsize 5, out_qsize 0\n",
      "2023-03-12 12:05:40,878 : INFO : EPOCH 0 - PROGRESS: at 46.66% examples, 1298589 words/s, in_qsize 5, out_qsize 0\n",
      "2023-03-12 12:05:41,885 : INFO : EPOCH 0 - PROGRESS: at 62.08% examples, 1292917 words/s, in_qsize 6, out_qsize 0\n",
      "2023-03-12 12:05:42,892 : INFO : EPOCH 0 - PROGRESS: at 77.97% examples, 1297847 words/s, in_qsize 5, out_qsize 0\n",
      "2023-03-12 12:05:43,902 : INFO : EPOCH 0 - PROGRESS: at 93.91% examples, 1303231 words/s, in_qsize 5, out_qsize 0\n",
      "2023-03-12 12:05:44,317 : INFO : EPOCH 0: training on 11176467 raw words (8370105 effective words) took 6.5s, 1297299 effective words/s\n",
      "2023-03-12 12:05:45,325 : INFO : EPOCH 1 - PROGRESS: at 15.09% examples, 1259196 words/s, in_qsize 5, out_qsize 0\n",
      "2023-03-12 12:05:46,328 : INFO : EPOCH 1 - PROGRESS: at 30.91% examples, 1289605 words/s, in_qsize 5, out_qsize 2\n",
      "2023-03-12 12:05:47,332 : INFO : EPOCH 1 - PROGRESS: at 46.40% examples, 1290786 words/s, in_qsize 5, out_qsize 0\n",
      "2023-03-12 12:05:48,334 : INFO : EPOCH 1 - PROGRESS: at 60.09% examples, 1251598 words/s, in_qsize 5, out_qsize 0\n",
      "2023-03-12 12:05:49,335 : INFO : EPOCH 1 - PROGRESS: at 73.81% examples, 1230785 words/s, in_qsize 5, out_qsize 0\n",
      "2023-03-12 12:05:50,337 : INFO : EPOCH 1 - PROGRESS: at 87.20% examples, 1212978 words/s, in_qsize 5, out_qsize 0\n",
      "2023-03-12 12:05:51,225 : INFO : EPOCH 1: training on 11176467 raw words (8368635 effective words) took 6.9s, 1211713 effective words/s\n",
      "2023-03-12 12:05:52,236 : INFO : EPOCH 2 - PROGRESS: at 15.09% examples, 1259634 words/s, in_qsize 5, out_qsize 0\n",
      "2023-03-12 12:05:53,245 : INFO : EPOCH 2 - PROGRESS: at 29.33% examples, 1219217 words/s, in_qsize 5, out_qsize 0\n",
      "2023-03-12 12:05:54,248 : INFO : EPOCH 2 - PROGRESS: at 43.19% examples, 1198717 words/s, in_qsize 5, out_qsize 0\n",
      "2023-03-12 12:05:55,254 : INFO : EPOCH 2 - PROGRESS: at 57.25% examples, 1190036 words/s, in_qsize 5, out_qsize 0\n",
      "2023-03-12 12:05:56,257 : INFO : EPOCH 2 - PROGRESS: at 72.31% examples, 1203097 words/s, in_qsize 5, out_qsize 1\n",
      "2023-03-12 12:05:57,257 : INFO : EPOCH 2 - PROGRESS: at 86.95% examples, 1207433 words/s, in_qsize 5, out_qsize 0\n",
      "2023-03-12 12:05:58,099 : INFO : EPOCH 2: training on 11176467 raw words (8367150 effective words) took 6.9s, 1217944 effective words/s\n",
      "2023-03-12 12:05:59,104 : INFO : EPOCH 3 - PROGRESS: at 15.62% examples, 1310225 words/s, in_qsize 6, out_qsize 0\n",
      "2023-03-12 12:06:00,105 : INFO : EPOCH 3 - PROGRESS: at 30.66% examples, 1283088 words/s, in_qsize 5, out_qsize 1\n",
      "2023-03-12 12:06:01,106 : INFO : EPOCH 3 - PROGRESS: at 46.32% examples, 1292955 words/s, in_qsize 5, out_qsize 0\n",
      "2023-03-12 12:06:02,109 : INFO : EPOCH 3 - PROGRESS: at 61.99% examples, 1295303 words/s, in_qsize 5, out_qsize 0\n",
      "2023-03-12 12:06:03,113 : INFO : EPOCH 3 - PROGRESS: at 76.92% examples, 1284050 words/s, in_qsize 5, out_qsize 0\n",
      "2023-03-12 12:06:04,117 : INFO : EPOCH 3 - PROGRESS: at 91.73% examples, 1277423 words/s, in_qsize 5, out_qsize 0\n",
      "2023-03-12 12:06:04,664 : INFO : EPOCH 3: training on 11176467 raw words (8368617 effective words) took 6.6s, 1275463 effective words/s\n",
      "2023-03-12 12:06:05,673 : INFO : EPOCH 4 - PROGRESS: at 15.62% examples, 1302797 words/s, in_qsize 5, out_qsize 0\n",
      "2023-03-12 12:06:06,675 : INFO : EPOCH 4 - PROGRESS: at 31.62% examples, 1318705 words/s, in_qsize 5, out_qsize 0\n",
      "2023-03-12 12:06:07,683 : INFO : EPOCH 4 - PROGRESS: at 47.48% examples, 1318523 words/s, in_qsize 6, out_qsize 1\n",
      "2023-03-12 12:06:08,686 : INFO : EPOCH 4 - PROGRESS: at 63.35% examples, 1319612 words/s, in_qsize 5, out_qsize 0\n",
      "2023-03-12 12:06:09,692 : INFO : EPOCH 4 - PROGRESS: at 79.36% examples, 1319550 words/s, in_qsize 5, out_qsize 0\n",
      "2023-03-12 12:06:10,695 : INFO : EPOCH 4 - PROGRESS: at 94.97% examples, 1318932 words/s, in_qsize 5, out_qsize 0\n",
      "2023-03-12 12:06:11,005 : INFO : EPOCH 4: training on 11176467 raw words (8367080 effective words) took 6.3s, 1319964 effective words/s\n",
      "2023-03-12 12:06:11,005 : INFO : Word2Vec lifecycle event {'msg': 'training on 55882335 raw words (41841587 effective words) took 33.1s, 1262464 effective words/s', 'datetime': '2023-03-12T12:06:11.005540', 'gensim': '4.2.0', 'python': '3.8.11 (default, Aug 16 2021, 12:04:33) \\n[Clang 12.0.0 ]', 'platform': 'macOS-13.2.1-arm64-arm-64bit', 'event': 'train'}\n",
      "2023-03-12 12:06:11,005 : INFO : Word2Vec lifecycle event {'params': 'Word2Vec<vocab=26588, vector_size=100, alpha=0.025>', 'datetime': '2023-03-12T12:06:11.005790', 'gensim': '4.2.0', 'python': '3.8.11 (default, Aug 16 2021, 12:04:33) \\n[Clang 12.0.0 ]', 'platform': 'macOS-13.2.1-arm64-arm-64bit', 'event': 'created'}\n",
      "/Users/jakebrophy/miniforge3/envs/myenv/lib/python3.8/site-packages/sklearn/linear_model/_logistic.py:444: ConvergenceWarning: lbfgs failed to converge (status=1):\n",
      "STOP: TOTAL NO. of ITERATIONS REACHED LIMIT.\n",
      "\n",
      "Increase the number of iterations (max_iter) or scale the data as shown in:\n",
      "    https://scikit-learn.org/stable/modules/preprocessing.html\n",
      "Please also refer to the documentation for alternative solver options:\n",
      "    https://scikit-learn.org/stable/modules/linear_model.html#logistic-regression\n",
      "  n_iter_i = _check_optimize_result(\n"
     ]
    },
    {
     "name": "stdout",
     "output_type": "stream",
     "text": [
      "CLASSIFICATION REPORT FOR WINDOW= 2\n",
      "              precision    recall  f1-score   support\n",
      "\n",
      "    negative       0.85      0.85      0.85      4988\n",
      "    positive       0.85      0.85      0.85      5012\n",
      "\n",
      "    accuracy                           0.85     10000\n",
      "   macro avg       0.85      0.85      0.85     10000\n",
      "weighted avg       0.85      0.85      0.85     10000\n",
      "\n"
     ]
    },
    {
     "name": "stderr",
     "output_type": "stream",
     "text": [
      "2023-03-12 12:08:15,176 : INFO : collecting all words and their counts\n",
      "2023-03-12 12:08:15,177 : INFO : PROGRESS: at sentence #0, processed 0 words, keeping 0 word types\n",
      "2023-03-12 12:08:15,364 : INFO : PROGRESS: at sentence #10000, processed 2235115 words, keeping 34948 word types\n",
      "2023-03-12 12:08:15,572 : INFO : PROGRESS: at sentence #20000, processed 4471355 words, keeping 46592 word types\n",
      "2023-03-12 12:08:15,797 : INFO : PROGRESS: at sentence #30000, processed 6703795 words, keeping 55178 word types\n",
      "2023-03-12 12:08:16,011 : INFO : PROGRESS: at sentence #40000, processed 8930547 words, keeping 62430 word types\n",
      "2023-03-12 12:08:16,226 : INFO : collected 68818 word types from a corpus of 11176467 raw words and 50000 sentences\n",
      "2023-03-12 12:08:16,226 : INFO : Creating a fresh vocabulary\n",
      "2023-03-12 12:08:16,286 : INFO : Word2Vec lifecycle event {'msg': 'effective_min_count=5 retains 26588 unique words (38.64% of original 68818, drops 42230)', 'datetime': '2023-03-12T12:08:16.286701', 'gensim': '4.2.0', 'python': '3.8.11 (default, Aug 16 2021, 12:04:33) \\n[Clang 12.0.0 ]', 'platform': 'macOS-13.2.1-arm64-arm-64bit', 'event': 'prepare_vocab'}\n",
      "2023-03-12 12:08:16,287 : INFO : Word2Vec lifecycle event {'msg': 'effective_min_count=5 leaves 11108863 word corpus (99.40% of original 11176467, drops 67604)', 'datetime': '2023-03-12T12:08:16.287151', 'gensim': '4.2.0', 'python': '3.8.11 (default, Aug 16 2021, 12:04:33) \\n[Clang 12.0.0 ]', 'platform': 'macOS-13.2.1-arm64-arm-64bit', 'event': 'prepare_vocab'}\n",
      "2023-03-12 12:08:16,348 : INFO : deleting the raw counts dictionary of 68818 items\n",
      "2023-03-12 12:08:16,349 : INFO : sample=0.001 downsamples 48 most-common words\n",
      "2023-03-12 12:08:16,349 : INFO : Word2Vec lifecycle event {'msg': 'downsampling leaves estimated 8368333.100896217 word corpus (75.3%% of prior 11108863)', 'datetime': '2023-03-12T12:08:16.349756', 'gensim': '4.2.0', 'python': '3.8.11 (default, Aug 16 2021, 12:04:33) \\n[Clang 12.0.0 ]', 'platform': 'macOS-13.2.1-arm64-arm-64bit', 'event': 'prepare_vocab'}\n",
      "2023-03-12 12:08:16,453 : INFO : estimated required memory for 26588 words and 100 dimensions: 34564400 bytes\n",
      "2023-03-12 12:08:16,454 : INFO : resetting layer weights\n",
      "2023-03-12 12:08:16,463 : INFO : Word2Vec lifecycle event {'update': False, 'trim_rule': 'None', 'datetime': '2023-03-12T12:08:16.463242', 'gensim': '4.2.0', 'python': '3.8.11 (default, Aug 16 2021, 12:04:33) \\n[Clang 12.0.0 ]', 'platform': 'macOS-13.2.1-arm64-arm-64bit', 'event': 'build_vocab'}\n",
      "2023-03-12 12:08:16,463 : INFO : Word2Vec lifecycle event {'msg': 'training model with 3 workers on 26588 vocabulary and 100 features, using sg=1 hs=0 sample=0.001 negative=5 window=3 shrink_windows=True', 'datetime': '2023-03-12T12:08:16.463702', 'gensim': '4.2.0', 'python': '3.8.11 (default, Aug 16 2021, 12:04:33) \\n[Clang 12.0.0 ]', 'platform': 'macOS-13.2.1-arm64-arm-64bit', 'event': 'train'}\n",
      "2023-03-12 12:08:17,476 : INFO : EPOCH 0 - PROGRESS: at 12.08% examples, 1016500 words/s, in_qsize 5, out_qsize 0\n",
      "2023-03-12 12:08:18,484 : INFO : EPOCH 0 - PROGRESS: at 24.57% examples, 1021714 words/s, in_qsize 5, out_qsize 0\n",
      "2023-03-12 12:08:19,488 : INFO : EPOCH 0 - PROGRESS: at 37.01% examples, 1025458 words/s, in_qsize 6, out_qsize 0\n",
      "2023-03-12 12:08:20,504 : INFO : EPOCH 0 - PROGRESS: at 49.34% examples, 1023972 words/s, in_qsize 5, out_qsize 0\n",
      "2023-03-12 12:08:21,511 : INFO : EPOCH 0 - PROGRESS: at 61.52% examples, 1021253 words/s, in_qsize 5, out_qsize 0\n",
      "2023-03-12 12:08:22,515 : INFO : EPOCH 0 - PROGRESS: at 73.72% examples, 1019611 words/s, in_qsize 5, out_qsize 0\n",
      "2023-03-12 12:08:23,520 : INFO : EPOCH 0 - PROGRESS: at 85.62% examples, 1015401 words/s, in_qsize 5, out_qsize 0\n",
      "2023-03-12 12:08:24,523 : INFO : EPOCH 0 - PROGRESS: at 97.78% examples, 1016106 words/s, in_qsize 5, out_qsize 0\n",
      "2023-03-12 12:08:24,704 : INFO : EPOCH 0: training on 11176467 raw words (8367333 effective words) took 8.2s, 1015831 effective words/s\n",
      "2023-03-12 12:08:25,712 : INFO : EPOCH 1 - PROGRESS: at 12.08% examples, 1017976 words/s, in_qsize 5, out_qsize 0\n",
      "2023-03-12 12:08:26,713 : INFO : EPOCH 1 - PROGRESS: at 24.57% examples, 1026213 words/s, in_qsize 5, out_qsize 0\n",
      "2023-03-12 12:08:27,715 : INFO : EPOCH 1 - PROGRESS: at 37.01% examples, 1029330 words/s, in_qsize 5, out_qsize 0\n",
      "2023-03-12 12:08:28,726 : INFO : EPOCH 1 - PROGRESS: at 49.34% examples, 1027859 words/s, in_qsize 5, out_qsize 0\n",
      "2023-03-12 12:08:29,730 : INFO : EPOCH 1 - PROGRESS: at 61.80% examples, 1029501 words/s, in_qsize 5, out_qsize 0\n",
      "2023-03-12 12:08:30,740 : INFO : EPOCH 1 - PROGRESS: at 73.99% examples, 1025572 words/s, in_qsize 5, out_qsize 0\n",
      "2023-03-12 12:08:31,747 : INFO : EPOCH 1 - PROGRESS: at 85.35% examples, 1013916 words/s, in_qsize 5, out_qsize 0\n",
      "2023-03-12 12:08:32,751 : INFO : EPOCH 1 - PROGRESS: at 97.25% examples, 1011850 words/s, in_qsize 5, out_qsize 0\n",
      "2023-03-12 12:08:32,975 : INFO : EPOCH 1: training on 11176467 raw words (8366963 effective words) took 8.3s, 1011754 effective words/s\n",
      "2023-03-12 12:08:33,991 : INFO : EPOCH 2 - PROGRESS: at 11.85% examples, 989301 words/s, in_qsize 5, out_qsize 0\n",
      "2023-03-12 12:08:35,007 : INFO : EPOCH 2 - PROGRESS: at 24.28% examples, 1004514 words/s, in_qsize 5, out_qsize 0\n",
      "2023-03-12 12:08:36,008 : INFO : EPOCH 2 - PROGRESS: at 36.58% examples, 1010161 words/s, in_qsize 5, out_qsize 0\n",
      "2023-03-12 12:08:37,020 : INFO : EPOCH 2 - PROGRESS: at 48.55% examples, 1006020 words/s, in_qsize 5, out_qsize 0\n",
      "2023-03-12 12:08:38,023 : INFO : EPOCH 2 - PROGRESS: at 61.00% examples, 1012041 words/s, in_qsize 5, out_qsize 0\n",
      "2023-03-12 12:08:39,039 : INFO : EPOCH 2 - PROGRESS: at 73.45% examples, 1013503 words/s, in_qsize 5, out_qsize 0\n",
      "2023-03-12 12:08:40,047 : INFO : EPOCH 2 - PROGRESS: at 85.88% examples, 1016023 words/s, in_qsize 5, out_qsize 0\n",
      "2023-03-12 12:08:41,051 : INFO : EPOCH 2 - PROGRESS: at 98.07% examples, 1016714 words/s, in_qsize 5, out_qsize 0\n",
      "2023-03-12 12:08:41,207 : INFO : EPOCH 2: training on 11176467 raw words (8368539 effective words) took 8.2s, 1016914 effective words/s\n",
      "2023-03-12 12:08:42,211 : INFO : EPOCH 3 - PROGRESS: at 11.77% examples, 994359 words/s, in_qsize 5, out_qsize 0\n",
      "2023-03-12 12:08:43,226 : INFO : EPOCH 3 - PROGRESS: at 23.72% examples, 988815 words/s, in_qsize 5, out_qsize 0\n",
      "2023-03-12 12:08:44,244 : INFO : EPOCH 3 - PROGRESS: at 35.96% examples, 991871 words/s, in_qsize 5, out_qsize 0\n",
      "2023-03-12 12:08:45,251 : INFO : EPOCH 3 - PROGRESS: at 48.01% examples, 995313 words/s, in_qsize 5, out_qsize 0\n",
      "2023-03-12 12:08:46,254 : INFO : EPOCH 3 - PROGRESS: at 60.26% examples, 998831 words/s, in_qsize 5, out_qsize 0\n",
      "2023-03-12 12:08:47,255 : INFO : EPOCH 3 - PROGRESS: at 72.13% examples, 997943 words/s, in_qsize 5, out_qsize 0\n",
      "2023-03-12 12:08:48,260 : INFO : EPOCH 3 - PROGRESS: at 84.20% examples, 998024 words/s, in_qsize 5, out_qsize 0\n",
      "2023-03-12 12:08:49,263 : INFO : EPOCH 3 - PROGRESS: at 95.82% examples, 996490 words/s, in_qsize 5, out_qsize 0\n",
      "2023-03-12 12:08:49,635 : INFO : EPOCH 3: training on 11176467 raw words (8368013 effective words) took 8.4s, 993119 effective words/s\n",
      "2023-03-12 12:08:50,654 : INFO : EPOCH 4 - PROGRESS: at 12.08% examples, 1009130 words/s, in_qsize 5, out_qsize 0\n",
      "2023-03-12 12:08:51,657 : INFO : EPOCH 4 - PROGRESS: at 24.47% examples, 1016998 words/s, in_qsize 5, out_qsize 0\n",
      "2023-03-12 12:08:52,664 : INFO : EPOCH 4 - PROGRESS: at 36.75% examples, 1016362 words/s, in_qsize 5, out_qsize 0\n",
      "2023-03-12 12:08:53,683 : INFO : EPOCH 4 - PROGRESS: at 49.08% examples, 1016242 words/s, in_qsize 6, out_qsize 0\n",
      "2023-03-12 12:08:54,688 : INFO : EPOCH 4 - PROGRESS: at 61.35% examples, 1016981 words/s, in_qsize 5, out_qsize 0\n",
      "2023-03-12 12:08:55,696 : INFO : EPOCH 4 - PROGRESS: at 73.72% examples, 1017813 words/s, in_qsize 5, out_qsize 0\n",
      "2023-03-12 12:08:56,709 : INFO : EPOCH 4 - PROGRESS: at 86.12% examples, 1018908 words/s, in_qsize 5, out_qsize 0\n",
      "2023-03-12 12:08:57,718 : INFO : EPOCH 4 - PROGRESS: at 98.41% examples, 1019208 words/s, in_qsize 5, out_qsize 0\n",
      "2023-03-12 12:08:57,841 : INFO : EPOCH 4: training on 11176467 raw words (8367359 effective words) took 8.2s, 1019984 effective words/s\n",
      "2023-03-12 12:08:57,841 : INFO : Word2Vec lifecycle event {'msg': 'training on 55882335 raw words (41838207 effective words) took 41.4s, 1011119 effective words/s', 'datetime': '2023-03-12T12:08:57.841740', 'gensim': '4.2.0', 'python': '3.8.11 (default, Aug 16 2021, 12:04:33) \\n[Clang 12.0.0 ]', 'platform': 'macOS-13.2.1-arm64-arm-64bit', 'event': 'train'}\n"
     ]
    },
    {
     "name": "stderr",
     "output_type": "stream",
     "text": [
      "2023-03-12 12:08:57,841 : INFO : Word2Vec lifecycle event {'params': 'Word2Vec<vocab=26588, vector_size=100, alpha=0.025>', 'datetime': '2023-03-12T12:08:57.841951', 'gensim': '4.2.0', 'python': '3.8.11 (default, Aug 16 2021, 12:04:33) \\n[Clang 12.0.0 ]', 'platform': 'macOS-13.2.1-arm64-arm-64bit', 'event': 'created'}\n",
      "/Users/jakebrophy/miniforge3/envs/myenv/lib/python3.8/site-packages/sklearn/linear_model/_logistic.py:444: ConvergenceWarning: lbfgs failed to converge (status=1):\n",
      "STOP: TOTAL NO. of ITERATIONS REACHED LIMIT.\n",
      "\n",
      "Increase the number of iterations (max_iter) or scale the data as shown in:\n",
      "    https://scikit-learn.org/stable/modules/preprocessing.html\n",
      "Please also refer to the documentation for alternative solver options:\n",
      "    https://scikit-learn.org/stable/modules/linear_model.html#logistic-regression\n",
      "  n_iter_i = _check_optimize_result(\n"
     ]
    },
    {
     "name": "stdout",
     "output_type": "stream",
     "text": [
      "CLASSIFICATION REPORT FOR WINDOW= 3\n",
      "              precision    recall  f1-score   support\n",
      "\n",
      "    negative       0.85      0.85      0.85      4988\n",
      "    positive       0.85      0.85      0.85      5012\n",
      "\n",
      "    accuracy                           0.85     10000\n",
      "   macro avg       0.85      0.85      0.85     10000\n",
      "weighted avg       0.85      0.85      0.85     10000\n",
      "\n"
     ]
    },
    {
     "name": "stderr",
     "output_type": "stream",
     "text": [
      "2023-03-12 12:11:01,260 : INFO : collecting all words and their counts\n",
      "2023-03-12 12:11:01,261 : INFO : PROGRESS: at sentence #0, processed 0 words, keeping 0 word types\n",
      "2023-03-12 12:11:01,471 : INFO : PROGRESS: at sentence #10000, processed 2235115 words, keeping 34948 word types\n",
      "2023-03-12 12:11:01,708 : INFO : PROGRESS: at sentence #20000, processed 4471355 words, keeping 46592 word types\n",
      "2023-03-12 12:11:01,954 : INFO : PROGRESS: at sentence #30000, processed 6703795 words, keeping 55178 word types\n",
      "2023-03-12 12:11:02,212 : INFO : PROGRESS: at sentence #40000, processed 8930547 words, keeping 62430 word types\n",
      "2023-03-12 12:11:02,481 : INFO : collected 68818 word types from a corpus of 11176467 raw words and 50000 sentences\n",
      "2023-03-12 12:11:02,482 : INFO : Creating a fresh vocabulary\n",
      "2023-03-12 12:11:02,540 : INFO : Word2Vec lifecycle event {'msg': 'effective_min_count=5 retains 26588 unique words (38.64% of original 68818, drops 42230)', 'datetime': '2023-03-12T12:11:02.540047', 'gensim': '4.2.0', 'python': '3.8.11 (default, Aug 16 2021, 12:04:33) \\n[Clang 12.0.0 ]', 'platform': 'macOS-13.2.1-arm64-arm-64bit', 'event': 'prepare_vocab'}\n",
      "2023-03-12 12:11:02,540 : INFO : Word2Vec lifecycle event {'msg': 'effective_min_count=5 leaves 11108863 word corpus (99.40% of original 11176467, drops 67604)', 'datetime': '2023-03-12T12:11:02.540514', 'gensim': '4.2.0', 'python': '3.8.11 (default, Aug 16 2021, 12:04:33) \\n[Clang 12.0.0 ]', 'platform': 'macOS-13.2.1-arm64-arm-64bit', 'event': 'prepare_vocab'}\n",
      "2023-03-12 12:11:02,604 : INFO : deleting the raw counts dictionary of 68818 items\n",
      "2023-03-12 12:11:02,606 : INFO : sample=0.001 downsamples 48 most-common words\n",
      "2023-03-12 12:11:02,606 : INFO : Word2Vec lifecycle event {'msg': 'downsampling leaves estimated 8368333.100896217 word corpus (75.3%% of prior 11108863)', 'datetime': '2023-03-12T12:11:02.606455', 'gensim': '4.2.0', 'python': '3.8.11 (default, Aug 16 2021, 12:04:33) \\n[Clang 12.0.0 ]', 'platform': 'macOS-13.2.1-arm64-arm-64bit', 'event': 'prepare_vocab'}\n",
      "2023-03-12 12:11:02,712 : INFO : estimated required memory for 26588 words and 100 dimensions: 34564400 bytes\n",
      "2023-03-12 12:11:02,712 : INFO : resetting layer weights\n",
      "2023-03-12 12:11:02,721 : INFO : Word2Vec lifecycle event {'update': False, 'trim_rule': 'None', 'datetime': '2023-03-12T12:11:02.721901', 'gensim': '4.2.0', 'python': '3.8.11 (default, Aug 16 2021, 12:04:33) \\n[Clang 12.0.0 ]', 'platform': 'macOS-13.2.1-arm64-arm-64bit', 'event': 'build_vocab'}\n",
      "2023-03-12 12:11:02,722 : INFO : Word2Vec lifecycle event {'msg': 'training model with 3 workers on 26588 vocabulary and 100 features, using sg=1 hs=0 sample=0.001 negative=5 window=5 shrink_windows=True', 'datetime': '2023-03-12T12:11:02.722362', 'gensim': '4.2.0', 'python': '3.8.11 (default, Aug 16 2021, 12:04:33) \\n[Clang 12.0.0 ]', 'platform': 'macOS-13.2.1-arm64-arm-64bit', 'event': 'train'}\n",
      "2023-03-12 12:11:03,727 : INFO : EPOCH 0 - PROGRESS: at 7.28% examples, 603834 words/s, in_qsize 5, out_qsize 0\n",
      "2023-03-12 12:11:04,729 : INFO : EPOCH 0 - PROGRESS: at 14.28% examples, 599396 words/s, in_qsize 5, out_qsize 0\n",
      "2023-03-12 12:11:05,740 : INFO : EPOCH 0 - PROGRESS: at 21.92% examples, 610253 words/s, in_qsize 5, out_qsize 0\n",
      "2023-03-12 12:11:06,744 : INFO : EPOCH 0 - PROGRESS: at 30.19% examples, 629496 words/s, in_qsize 5, out_qsize 0\n",
      "2023-03-12 12:11:07,762 : INFO : EPOCH 0 - PROGRESS: at 38.63% examples, 640886 words/s, in_qsize 5, out_qsize 0\n",
      "2023-03-12 12:11:08,763 : INFO : EPOCH 0 - PROGRESS: at 46.75% examples, 648949 words/s, in_qsize 5, out_qsize 0\n",
      "2023-03-12 12:11:09,764 : INFO : EPOCH 0 - PROGRESS: at 54.93% examples, 653023 words/s, in_qsize 5, out_qsize 0\n",
      "2023-03-12 12:11:10,769 : INFO : EPOCH 0 - PROGRESS: at 63.35% examples, 659501 words/s, in_qsize 5, out_qsize 0\n",
      "2023-03-12 12:11:11,777 : INFO : EPOCH 0 - PROGRESS: at 71.59% examples, 661612 words/s, in_qsize 5, out_qsize 0\n",
      "2023-03-12 12:11:12,802 : INFO : EPOCH 0 - PROGRESS: at 80.42% examples, 666896 words/s, in_qsize 5, out_qsize 0\n",
      "2023-03-12 12:11:13,804 : INFO : EPOCH 0 - PROGRESS: at 88.83% examples, 671354 words/s, in_qsize 5, out_qsize 0\n",
      "2023-03-12 12:11:14,815 : INFO : EPOCH 0 - PROGRESS: at 97.35% examples, 674010 words/s, in_qsize 5, out_qsize 0\n",
      "2023-03-12 12:11:15,115 : INFO : EPOCH 0: training on 11176467 raw words (8369261 effective words) took 12.4s, 675390 effective words/s\n",
      "2023-03-12 12:11:16,145 : INFO : EPOCH 1 - PROGRESS: at 8.62% examples, 697188 words/s, in_qsize 5, out_qsize 0\n",
      "2023-03-12 12:11:17,145 : INFO : EPOCH 1 - PROGRESS: at 17.11% examples, 707962 words/s, in_qsize 5, out_qsize 0\n",
      "2023-03-12 12:11:18,146 : INFO : EPOCH 1 - PROGRESS: at 25.53% examples, 707321 words/s, in_qsize 5, out_qsize 0\n",
      "2023-03-12 12:11:19,164 : INFO : EPOCH 1 - PROGRESS: at 34.08% examples, 705682 words/s, in_qsize 5, out_qsize 0\n",
      "2023-03-12 12:11:20,166 : INFO : EPOCH 1 - PROGRESS: at 42.65% examples, 707972 words/s, in_qsize 5, out_qsize 0\n",
      "2023-03-12 12:11:21,170 : INFO : EPOCH 1 - PROGRESS: at 51.18% examples, 708410 words/s, in_qsize 5, out_qsize 0\n",
      "2023-03-12 12:11:22,171 : INFO : EPOCH 1 - PROGRESS: at 59.81% examples, 709392 words/s, in_qsize 5, out_qsize 0\n",
      "2023-03-12 12:11:23,180 : INFO : EPOCH 1 - PROGRESS: at 68.45% examples, 710080 words/s, in_qsize 5, out_qsize 0\n",
      "2023-03-12 12:11:24,189 : INFO : EPOCH 1 - PROGRESS: at 77.07% examples, 710808 words/s, in_qsize 5, out_qsize 0\n",
      "2023-03-12 12:11:25,202 : INFO : EPOCH 1 - PROGRESS: at 85.79% examples, 711619 words/s, in_qsize 5, out_qsize 0\n",
      "2023-03-12 12:11:26,221 : INFO : EPOCH 1 - PROGRESS: at 94.34% examples, 711608 words/s, in_qsize 5, out_qsize 0\n",
      "2023-03-12 12:11:26,863 : INFO : EPOCH 1: training on 11176467 raw words (8368226 effective words) took 11.7s, 712451 effective words/s\n",
      "2023-03-12 12:11:27,884 : INFO : EPOCH 2 - PROGRESS: at 8.62% examples, 702653 words/s, in_qsize 5, out_qsize 0\n",
      "2023-03-12 12:11:28,885 : INFO : EPOCH 2 - PROGRESS: at 16.67% examples, 692756 words/s, in_qsize 5, out_qsize 0\n",
      "2023-03-12 12:11:29,885 : INFO : EPOCH 2 - PROGRESS: at 25.18% examples, 699330 words/s, in_qsize 5, out_qsize 0\n",
      "2023-03-12 12:11:30,897 : INFO : EPOCH 2 - PROGRESS: at 33.81% examples, 702757 words/s, in_qsize 5, out_qsize 0\n",
      "2023-03-12 12:11:31,904 : INFO : EPOCH 2 - PROGRESS: at 42.47% examples, 706386 words/s, in_qsize 5, out_qsize 0\n",
      "2023-03-12 12:11:32,907 : INFO : EPOCH 2 - PROGRESS: at 51.10% examples, 708654 words/s, in_qsize 5, out_qsize 0\n",
      "2023-03-12 12:11:33,909 : INFO : EPOCH 2 - PROGRESS: at 59.73% examples, 709377 words/s, in_qsize 5, out_qsize 0\n",
      "2023-03-12 12:11:34,911 : INFO : EPOCH 2 - PROGRESS: at 68.38% examples, 710759 words/s, in_qsize 5, out_qsize 0\n",
      "2023-03-12 12:11:35,911 : INFO : EPOCH 2 - PROGRESS: at 76.92% examples, 711207 words/s, in_qsize 5, out_qsize 0\n",
      "2023-03-12 12:11:36,925 : INFO : EPOCH 2 - PROGRESS: at 85.62% examples, 711962 words/s, in_qsize 5, out_qsize 0\n",
      "2023-03-12 12:11:37,927 : INFO : EPOCH 2 - PROGRESS: at 94.07% examples, 712361 words/s, in_qsize 5, out_qsize 0\n",
      "2023-03-12 12:11:38,598 : INFO : EPOCH 2: training on 11176467 raw words (8368184 effective words) took 11.7s, 713189 effective words/s\n",
      "2023-03-12 12:11:39,621 : INFO : EPOCH 3 - PROGRESS: at 8.62% examples, 700749 words/s, in_qsize 5, out_qsize 0\n",
      "2023-03-12 12:11:40,637 : INFO : EPOCH 3 - PROGRESS: at 17.20% examples, 708188 words/s, in_qsize 5, out_qsize 0\n",
      "2023-03-12 12:11:41,653 : INFO : EPOCH 3 - PROGRESS: at 25.90% examples, 710745 words/s, in_qsize 5, out_qsize 0\n",
      "2023-03-12 12:11:42,670 : INFO : EPOCH 3 - PROGRESS: at 34.61% examples, 712053 words/s, in_qsize 5, out_qsize 0\n",
      "2023-03-12 12:11:43,681 : INFO : EPOCH 3 - PROGRESS: at 43.28% examples, 713390 words/s, in_qsize 5, out_qsize 0\n",
      "2023-03-12 12:11:44,699 : INFO : EPOCH 3 - PROGRESS: at 51.94% examples, 713679 words/s, in_qsize 5, out_qsize 0\n",
      "2023-03-12 12:11:45,715 : INFO : EPOCH 3 - PROGRESS: at 60.76% examples, 714347 words/s, in_qsize 5, out_qsize 0\n",
      "2023-03-12 12:11:46,733 : INFO : EPOCH 3 - PROGRESS: at 69.45% examples, 714667 words/s, in_qsize 5, out_qsize 0\n",
      "2023-03-12 12:11:47,749 : INFO : EPOCH 3 - PROGRESS: at 78.25% examples, 715121 words/s, in_qsize 5, out_qsize 0\n",
      "2023-03-12 12:11:48,762 : INFO : EPOCH 3 - PROGRESS: at 86.85% examples, 715387 words/s, in_qsize 5, out_qsize 0\n"
     ]
    },
    {
     "name": "stderr",
     "output_type": "stream",
     "text": [
      "2023-03-12 12:11:49,769 : INFO : EPOCH 3 - PROGRESS: at 95.50% examples, 715829 words/s, in_qsize 5, out_qsize 0\n",
      "2023-03-12 12:11:50,283 : INFO : EPOCH 3: training on 11176467 raw words (8367689 effective words) took 11.7s, 716156 effective words/s\n",
      "2023-03-12 12:11:51,308 : INFO : EPOCH 4 - PROGRESS: at 8.62% examples, 700321 words/s, in_qsize 5, out_qsize 0\n",
      "2023-03-12 12:11:52,323 : INFO : EPOCH 4 - PROGRESS: at 17.20% examples, 708237 words/s, in_qsize 5, out_qsize 0\n",
      "2023-03-12 12:11:53,341 : INFO : EPOCH 4 - PROGRESS: at 25.90% examples, 710337 words/s, in_qsize 5, out_qsize 0\n",
      "2023-03-12 12:11:54,363 : INFO : EPOCH 4 - PROGRESS: at 34.61% examples, 710840 words/s, in_qsize 5, out_qsize 0\n",
      "2023-03-12 12:11:55,376 : INFO : EPOCH 4 - PROGRESS: at 43.28% examples, 712079 words/s, in_qsize 5, out_qsize 0\n",
      "2023-03-12 12:11:56,398 : INFO : EPOCH 4 - PROGRESS: at 51.94% examples, 712250 words/s, in_qsize 5, out_qsize 0\n",
      "2023-03-12 12:11:57,417 : INFO : EPOCH 4 - PROGRESS: at 60.76% examples, 712806 words/s, in_qsize 5, out_qsize 0\n",
      "2023-03-12 12:11:58,436 : INFO : EPOCH 4 - PROGRESS: at 69.45% examples, 713187 words/s, in_qsize 5, out_qsize 0\n",
      "2023-03-12 12:11:59,439 : INFO : EPOCH 4 - PROGRESS: at 78.06% examples, 713249 words/s, in_qsize 5, out_qsize 0\n",
      "2023-03-12 12:12:00,458 : INFO : EPOCH 4 - PROGRESS: at 86.58% examples, 712528 words/s, in_qsize 5, out_qsize 0\n",
      "2023-03-12 12:12:01,467 : INFO : EPOCH 4 - PROGRESS: at 95.15% examples, 712424 words/s, in_qsize 5, out_qsize 0\n",
      "2023-03-12 12:12:02,016 : INFO : EPOCH 4: training on 11176467 raw words (8366947 effective words) took 11.7s, 713217 effective words/s\n",
      "2023-03-12 12:12:02,016 : INFO : Word2Vec lifecycle event {'msg': 'training on 55882335 raw words (41840307 effective words) took 59.3s, 705634 effective words/s', 'datetime': '2023-03-12T12:12:02.016772', 'gensim': '4.2.0', 'python': '3.8.11 (default, Aug 16 2021, 12:04:33) \\n[Clang 12.0.0 ]', 'platform': 'macOS-13.2.1-arm64-arm-64bit', 'event': 'train'}\n",
      "2023-03-12 12:12:02,017 : INFO : Word2Vec lifecycle event {'params': 'Word2Vec<vocab=26588, vector_size=100, alpha=0.025>', 'datetime': '2023-03-12T12:12:02.017072', 'gensim': '4.2.0', 'python': '3.8.11 (default, Aug 16 2021, 12:04:33) \\n[Clang 12.0.0 ]', 'platform': 'macOS-13.2.1-arm64-arm-64bit', 'event': 'created'}\n"
     ]
    },
    {
     "name": "stdout",
     "output_type": "stream",
     "text": [
      "CLASSIFICATION REPORT FOR WINDOW= 5\n",
      "              precision    recall  f1-score   support\n",
      "\n",
      "    negative       0.86      0.86      0.86      4988\n",
      "    positive       0.86      0.86      0.86      5012\n",
      "\n",
      "    accuracy                           0.86     10000\n",
      "   macro avg       0.86      0.86      0.86     10000\n",
      "weighted avg       0.86      0.86      0.86     10000\n",
      "\n"
     ]
    },
    {
     "name": "stderr",
     "output_type": "stream",
     "text": [
      "2023-03-12 12:14:03,787 : INFO : collecting all words and their counts\n",
      "2023-03-12 12:14:03,788 : INFO : PROGRESS: at sentence #0, processed 0 words, keeping 0 word types\n",
      "2023-03-12 12:14:04,007 : INFO : PROGRESS: at sentence #10000, processed 2235115 words, keeping 34948 word types\n",
      "2023-03-12 12:14:04,256 : INFO : PROGRESS: at sentence #20000, processed 4471355 words, keeping 46592 word types\n",
      "2023-03-12 12:14:04,520 : INFO : PROGRESS: at sentence #30000, processed 6703795 words, keeping 55178 word types\n",
      "2023-03-12 12:14:04,790 : INFO : PROGRESS: at sentence #40000, processed 8930547 words, keeping 62430 word types\n",
      "2023-03-12 12:14:05,043 : INFO : collected 68818 word types from a corpus of 11176467 raw words and 50000 sentences\n",
      "2023-03-12 12:14:05,044 : INFO : Creating a fresh vocabulary\n",
      "2023-03-12 12:14:05,104 : INFO : Word2Vec lifecycle event {'msg': 'effective_min_count=5 retains 26588 unique words (38.64% of original 68818, drops 42230)', 'datetime': '2023-03-12T12:14:05.104719', 'gensim': '4.2.0', 'python': '3.8.11 (default, Aug 16 2021, 12:04:33) \\n[Clang 12.0.0 ]', 'platform': 'macOS-13.2.1-arm64-arm-64bit', 'event': 'prepare_vocab'}\n",
      "2023-03-12 12:14:05,105 : INFO : Word2Vec lifecycle event {'msg': 'effective_min_count=5 leaves 11108863 word corpus (99.40% of original 11176467, drops 67604)', 'datetime': '2023-03-12T12:14:05.105122', 'gensim': '4.2.0', 'python': '3.8.11 (default, Aug 16 2021, 12:04:33) \\n[Clang 12.0.0 ]', 'platform': 'macOS-13.2.1-arm64-arm-64bit', 'event': 'prepare_vocab'}\n",
      "2023-03-12 12:14:05,166 : INFO : deleting the raw counts dictionary of 68818 items\n",
      "2023-03-12 12:14:05,167 : INFO : sample=0.001 downsamples 48 most-common words\n",
      "2023-03-12 12:14:05,167 : INFO : Word2Vec lifecycle event {'msg': 'downsampling leaves estimated 8368333.100896217 word corpus (75.3%% of prior 11108863)', 'datetime': '2023-03-12T12:14:05.167767', 'gensim': '4.2.0', 'python': '3.8.11 (default, Aug 16 2021, 12:04:33) \\n[Clang 12.0.0 ]', 'platform': 'macOS-13.2.1-arm64-arm-64bit', 'event': 'prepare_vocab'}\n",
      "2023-03-12 12:14:05,269 : INFO : estimated required memory for 26588 words and 100 dimensions: 34564400 bytes\n",
      "2023-03-12 12:14:05,269 : INFO : resetting layer weights\n",
      "2023-03-12 12:14:05,278 : INFO : Word2Vec lifecycle event {'update': False, 'trim_rule': 'None', 'datetime': '2023-03-12T12:14:05.278332', 'gensim': '4.2.0', 'python': '3.8.11 (default, Aug 16 2021, 12:04:33) \\n[Clang 12.0.0 ]', 'platform': 'macOS-13.2.1-arm64-arm-64bit', 'event': 'build_vocab'}\n",
      "2023-03-12 12:14:05,278 : INFO : Word2Vec lifecycle event {'msg': 'training model with 3 workers on 26588 vocabulary and 100 features, using sg=1 hs=0 sample=0.001 negative=5 window=10 shrink_windows=True', 'datetime': '2023-03-12T12:14:05.278674', 'gensim': '4.2.0', 'python': '3.8.11 (default, Aug 16 2021, 12:04:33) \\n[Clang 12.0.0 ]', 'platform': 'macOS-13.2.1-arm64-arm-64bit', 'event': 'train'}\n",
      "2023-03-12 12:14:06,326 : INFO : EPOCH 0 - PROGRESS: at 4.41% examples, 346209 words/s, in_qsize 5, out_qsize 0\n",
      "2023-03-12 12:14:07,378 : INFO : EPOCH 0 - PROGRESS: at 9.14% examples, 362342 words/s, in_qsize 5, out_qsize 0\n",
      "2023-03-12 12:14:08,388 : INFO : EPOCH 0 - PROGRESS: at 13.47% examples, 365339 words/s, in_qsize 5, out_qsize 0\n",
      "2023-03-12 12:14:09,388 : INFO : EPOCH 0 - PROGRESS: at 18.40% examples, 376628 words/s, in_qsize 5, out_qsize 0\n",
      "2023-03-12 12:14:10,432 : INFO : EPOCH 0 - PROGRESS: at 22.93% examples, 374448 words/s, in_qsize 5, out_qsize 0\n",
      "2023-03-12 12:14:11,434 : INFO : EPOCH 0 - PROGRESS: at 27.70% examples, 377972 words/s, in_qsize 6, out_qsize 0\n",
      "2023-03-12 12:14:12,483 : INFO : EPOCH 0 - PROGRESS: at 32.49% examples, 378170 words/s, in_qsize 5, out_qsize 0\n",
      "2023-03-12 12:14:13,486 : INFO : EPOCH 0 - PROGRESS: at 37.18% examples, 379406 words/s, in_qsize 5, out_qsize 0\n",
      "2023-03-12 12:14:14,496 : INFO : EPOCH 0 - PROGRESS: at 41.77% examples, 379854 words/s, in_qsize 5, out_qsize 0\n",
      "2023-03-12 12:14:15,510 : INFO : EPOCH 0 - PROGRESS: at 46.32% examples, 379559 words/s, in_qsize 5, out_qsize 0\n",
      "2023-03-12 12:14:16,539 : INFO : EPOCH 0 - PROGRESS: at 51.10% examples, 380224 words/s, in_qsize 5, out_qsize 0\n",
      "2023-03-12 12:14:17,548 : INFO : EPOCH 0 - PROGRESS: at 55.55% examples, 378949 words/s, in_qsize 5, out_qsize 0\n",
      "2023-03-12 12:14:18,555 : INFO : EPOCH 0 - PROGRESS: at 60.17% examples, 379118 words/s, in_qsize 5, out_qsize 0\n",
      "2023-03-12 12:14:19,565 : INFO : EPOCH 0 - PROGRESS: at 64.92% examples, 380693 words/s, in_qsize 5, out_qsize 0\n",
      "2023-03-12 12:14:20,577 : INFO : EPOCH 0 - PROGRESS: at 69.83% examples, 381979 words/s, in_qsize 5, out_qsize 0\n",
      "2023-03-12 12:14:21,583 : INFO : EPOCH 0 - PROGRESS: at 74.70% examples, 383301 words/s, in_qsize 5, out_qsize 0\n",
      "2023-03-12 12:14:22,608 : INFO : EPOCH 0 - PROGRESS: at 79.71% examples, 384474 words/s, in_qsize 5, out_qsize 0\n",
      "2023-03-12 12:14:23,611 : INFO : EPOCH 0 - PROGRESS: at 84.52% examples, 385470 words/s, in_qsize 5, out_qsize 0\n",
      "2023-03-12 12:14:24,627 : INFO : EPOCH 0 - PROGRESS: at 89.25% examples, 386390 words/s, in_qsize 5, out_qsize 0\n",
      "2023-03-12 12:14:25,637 : INFO : EPOCH 0 - PROGRESS: at 94.07% examples, 387084 words/s, in_qsize 5, out_qsize 0\n",
      "2023-03-12 12:14:26,672 : INFO : EPOCH 0 - PROGRESS: at 99.13% examples, 387803 words/s, in_qsize 5, out_qsize 0\n",
      "2023-03-12 12:14:26,835 : INFO : EPOCH 0: training on 11176467 raw words (8368179 effective words) took 21.6s, 388210 effective words/s\n",
      "2023-03-12 12:14:27,884 : INFO : EPOCH 1 - PROGRESS: at 4.93% examples, 388493 words/s, in_qsize 5, out_qsize 0\n",
      "2023-03-12 12:14:28,911 : INFO : EPOCH 1 - PROGRESS: at 9.37% examples, 376964 words/s, in_qsize 5, out_qsize 0\n",
      "2023-03-12 12:14:29,913 : INFO : EPOCH 1 - PROGRESS: at 14.20% examples, 388353 words/s, in_qsize 5, out_qsize 0\n",
      "2023-03-12 12:14:30,950 : INFO : EPOCH 1 - PROGRESS: at 19.04% examples, 388690 words/s, in_qsize 5, out_qsize 0\n",
      "2023-03-12 12:14:31,994 : INFO : EPOCH 1 - PROGRESS: at 23.98% examples, 391009 words/s, in_qsize 5, out_qsize 0\n",
      "2023-03-12 12:14:33,035 : INFO : EPOCH 1 - PROGRESS: at 29.02% examples, 393003 words/s, in_qsize 5, out_qsize 0\n",
      "2023-03-12 12:14:34,038 : INFO : EPOCH 1 - PROGRESS: at 33.88% examples, 394610 words/s, in_qsize 5, out_qsize 0\n",
      "2023-03-12 12:14:35,075 : INFO : EPOCH 1 - PROGRESS: at 38.92% examples, 394726 words/s, in_qsize 5, out_qsize 0\n",
      "2023-03-12 12:14:36,110 : INFO : EPOCH 1 - PROGRESS: at 43.81% examples, 395703 words/s, in_qsize 5, out_qsize 0\n",
      "2023-03-12 12:14:37,112 : INFO : EPOCH 1 - PROGRESS: at 48.72% examples, 397304 words/s, in_qsize 5, out_qsize 0\n",
      "2023-03-12 12:14:38,145 : INFO : EPOCH 1 - PROGRESS: at 53.61% examples, 396816 words/s, in_qsize 5, out_qsize 0\n",
      "2023-03-12 12:14:39,148 : INFO : EPOCH 1 - PROGRESS: at 58.53% examples, 397426 words/s, in_qsize 5, out_qsize 0\n",
      "2023-03-12 12:14:40,152 : INFO : EPOCH 1 - PROGRESS: at 63.27% examples, 397927 words/s, in_qsize 5, out_qsize 0\n",
      "2023-03-12 12:14:41,173 : INFO : EPOCH 1 - PROGRESS: at 68.20% examples, 397794 words/s, in_qsize 5, out_qsize 0\n",
      "2023-03-12 12:14:42,185 : INFO : EPOCH 1 - PROGRESS: at 73.11% examples, 398398 words/s, in_qsize 5, out_qsize 0\n",
      "2023-03-12 12:14:43,216 : INFO : EPOCH 1 - PROGRESS: at 77.97% examples, 398176 words/s, in_qsize 5, out_qsize 0\n",
      "2023-03-12 12:14:44,225 : INFO : EPOCH 1 - PROGRESS: at 82.99% examples, 398760 words/s, in_qsize 5, out_qsize 0\n",
      "2023-03-12 12:14:45,247 : INFO : EPOCH 1 - PROGRESS: at 87.64% examples, 398474 words/s, in_qsize 5, out_qsize 0\n",
      "2023-03-12 12:14:46,264 : INFO : EPOCH 1 - PROGRESS: at 92.51% examples, 398802 words/s, in_qsize 5, out_qsize 0\n",
      "2023-03-12 12:14:47,272 : INFO : EPOCH 1 - PROGRESS: at 97.35% examples, 398775 words/s, in_qsize 5, out_qsize 0\n",
      "2023-03-12 12:14:47,808 : INFO : EPOCH 1: training on 11176467 raw words (8368282 effective words) took 21.0s, 399023 effective words/s\n",
      "2023-03-12 12:14:48,854 : INFO : EPOCH 2 - PROGRESS: at 4.93% examples, 389915 words/s, in_qsize 5, out_qsize 0\n",
      "2023-03-12 12:14:49,896 : INFO : EPOCH 2 - PROGRESS: at 9.85% examples, 396120 words/s, in_qsize 5, out_qsize 0\n",
      "2023-03-12 12:14:50,937 : INFO : EPOCH 2 - PROGRESS: at 14.83% examples, 398696 words/s, in_qsize 5, out_qsize 0\n",
      "2023-03-12 12:14:51,976 : INFO : EPOCH 2 - PROGRESS: at 19.87% examples, 399650 words/s, in_qsize 5, out_qsize 0\n"
     ]
    },
    {
     "name": "stderr",
     "output_type": "stream",
     "text": [
      "2023-03-12 12:14:53,013 : INFO : EPOCH 2 - PROGRESS: at 24.84% examples, 400473 words/s, in_qsize 5, out_qsize 0\n",
      "2023-03-12 12:14:54,047 : INFO : EPOCH 2 - PROGRESS: at 29.84% examples, 401201 words/s, in_qsize 5, out_qsize 0\n",
      "2023-03-12 12:14:55,095 : INFO : EPOCH 2 - PROGRESS: at 34.88% examples, 401121 words/s, in_qsize 5, out_qsize 0\n",
      "2023-03-12 12:14:56,123 : INFO : EPOCH 2 - PROGRESS: at 39.90% examples, 401689 words/s, in_qsize 5, out_qsize 0\n",
      "2023-03-12 12:14:57,129 : INFO : EPOCH 2 - PROGRESS: at 44.75% examples, 402443 words/s, in_qsize 5, out_qsize 0\n",
      "2023-03-12 12:14:58,146 : INFO : EPOCH 2 - PROGRESS: at 49.34% examples, 399901 words/s, in_qsize 5, out_qsize 0\n",
      "2023-03-12 12:14:59,157 : INFO : EPOCH 2 - PROGRESS: at 54.17% examples, 399341 words/s, in_qsize 5, out_qsize 0\n",
      "2023-03-12 12:15:00,163 : INFO : EPOCH 2 - PROGRESS: at 59.05% examples, 399643 words/s, in_qsize 6, out_qsize 1\n",
      "2023-03-12 12:15:01,186 : INFO : EPOCH 2 - PROGRESS: at 63.88% examples, 399958 words/s, in_qsize 5, out_qsize 0\n",
      "2023-03-12 12:15:02,191 : INFO : EPOCH 2 - PROGRESS: at 68.80% examples, 400194 words/s, in_qsize 5, out_qsize 0\n",
      "2023-03-12 12:15:03,216 : INFO : EPOCH 2 - PROGRESS: at 73.72% examples, 400306 words/s, in_qsize 5, out_qsize 0\n",
      "2023-03-12 12:15:04,221 : INFO : EPOCH 2 - PROGRESS: at 78.60% examples, 400592 words/s, in_qsize 5, out_qsize 0\n",
      "2023-03-12 12:15:05,235 : INFO : EPOCH 2 - PROGRESS: at 83.59% examples, 400845 words/s, in_qsize 5, out_qsize 0\n",
      "2023-03-12 12:15:06,241 : INFO : EPOCH 2 - PROGRESS: at 88.22% examples, 400820 words/s, in_qsize 5, out_qsize 0\n",
      "2023-03-12 12:15:07,254 : INFO : EPOCH 2 - PROGRESS: at 93.13% examples, 401072 words/s, in_qsize 5, out_qsize 0\n",
      "2023-03-12 12:15:08,271 : INFO : EPOCH 2 - PROGRESS: at 98.07% examples, 401106 words/s, in_qsize 5, out_qsize 0\n",
      "2023-03-12 12:15:08,656 : INFO : EPOCH 2: training on 11176467 raw words (8367122 effective words) took 20.8s, 401398 effective words/s\n",
      "2023-03-12 12:15:09,702 : INFO : EPOCH 3 - PROGRESS: at 4.93% examples, 389497 words/s, in_qsize 5, out_qsize 0\n",
      "2023-03-12 12:15:10,741 : INFO : EPOCH 3 - PROGRESS: at 9.85% examples, 396309 words/s, in_qsize 5, out_qsize 0\n",
      "2023-03-12 12:15:11,784 : INFO : EPOCH 3 - PROGRESS: at 14.83% examples, 398501 words/s, in_qsize 5, out_qsize 0\n",
      "2023-03-12 12:15:12,821 : INFO : EPOCH 3 - PROGRESS: at 19.87% examples, 399618 words/s, in_qsize 5, out_qsize 0\n",
      "2023-03-12 12:15:13,869 : INFO : EPOCH 3 - PROGRESS: at 24.57% examples, 395458 words/s, in_qsize 5, out_qsize 0\n",
      "2023-03-12 12:15:14,903 : INFO : EPOCH 3 - PROGRESS: at 29.33% examples, 393543 words/s, in_qsize 5, out_qsize 0\n",
      "2023-03-12 12:15:15,953 : INFO : EPOCH 3 - PROGRESS: at 34.34% examples, 394493 words/s, in_qsize 5, out_qsize 0\n",
      "2023-03-12 12:15:16,988 : INFO : EPOCH 3 - PROGRESS: at 39.40% examples, 395569 words/s, in_qsize 5, out_qsize 0\n",
      "2023-03-12 12:15:17,997 : INFO : EPOCH 3 - PROGRESS: at 44.25% examples, 396845 words/s, in_qsize 5, out_qsize 0\n",
      "2023-03-12 12:15:19,025 : INFO : EPOCH 3 - PROGRESS: at 49.08% examples, 396549 words/s, in_qsize 5, out_qsize 0\n",
      "2023-03-12 12:15:20,033 : INFO : EPOCH 3 - PROGRESS: at 54.06% examples, 397756 words/s, in_qsize 5, out_qsize 0\n",
      "2023-03-12 12:15:21,067 : INFO : EPOCH 3 - PROGRESS: at 58.97% examples, 397299 words/s, in_qsize 5, out_qsize 0\n",
      "2023-03-12 12:15:22,076 : INFO : EPOCH 3 - PROGRESS: at 63.78% examples, 398245 words/s, in_qsize 5, out_qsize 0\n",
      "2023-03-12 12:15:23,102 : INFO : EPOCH 3 - PROGRESS: at 68.71% examples, 397969 words/s, in_qsize 5, out_qsize 0\n",
      "2023-03-12 12:15:24,103 : INFO : EPOCH 3 - PROGRESS: at 73.63% examples, 398840 words/s, in_qsize 5, out_qsize 0\n",
      "2023-03-12 12:15:25,106 : INFO : EPOCH 3 - PROGRESS: at 78.43% examples, 398807 words/s, in_qsize 5, out_qsize 0\n",
      "2023-03-12 12:15:26,130 : INFO : EPOCH 3 - PROGRESS: at 83.34% examples, 398594 words/s, in_qsize 5, out_qsize 0\n",
      "2023-03-12 12:15:27,134 : INFO : EPOCH 3 - PROGRESS: at 88.07% examples, 399117 words/s, in_qsize 5, out_qsize 0\n",
      "2023-03-12 12:15:28,157 : INFO : EPOCH 3 - PROGRESS: at 92.87% examples, 398902 words/s, in_qsize 5, out_qsize 0\n",
      "2023-03-12 12:15:29,165 : INFO : EPOCH 3 - PROGRESS: at 97.78% examples, 399211 words/s, in_qsize 5, out_qsize 0\n",
      "2023-03-12 12:15:29,609 : INFO : EPOCH 3: training on 11176467 raw words (8368912 effective words) took 21.0s, 399448 effective words/s\n",
      "2023-03-12 12:15:30,656 : INFO : EPOCH 4 - PROGRESS: at 4.93% examples, 388960 words/s, in_qsize 5, out_qsize 0\n",
      "2023-03-12 12:15:31,699 : INFO : EPOCH 4 - PROGRESS: at 9.85% examples, 395456 words/s, in_qsize 5, out_qsize 0\n",
      "2023-03-12 12:15:32,743 : INFO : EPOCH 4 - PROGRESS: at 14.83% examples, 397751 words/s, in_qsize 5, out_qsize 0\n",
      "2023-03-12 12:15:33,783 : INFO : EPOCH 4 - PROGRESS: at 19.87% examples, 398819 words/s, in_qsize 5, out_qsize 0\n",
      "2023-03-12 12:15:34,822 : INFO : EPOCH 4 - PROGRESS: at 24.84% examples, 399771 words/s, in_qsize 5, out_qsize 0\n",
      "2023-03-12 12:15:35,859 : INFO : EPOCH 4 - PROGRESS: at 29.84% examples, 400488 words/s, in_qsize 5, out_qsize 0\n",
      "2023-03-12 12:15:36,905 : INFO : EPOCH 4 - PROGRESS: at 34.88% examples, 400600 words/s, in_qsize 5, out_qsize 0\n",
      "2023-03-12 12:15:37,934 : INFO : EPOCH 4 - PROGRESS: at 39.90% examples, 401218 words/s, in_qsize 5, out_qsize 0\n",
      "2023-03-12 12:15:38,940 : INFO : EPOCH 4 - PROGRESS: at 44.75% examples, 402030 words/s, in_qsize 5, out_qsize 0\n",
      "2023-03-12 12:15:39,964 : INFO : EPOCH 4 - PROGRESS: at 49.60% examples, 401399 words/s, in_qsize 5, out_qsize 0\n",
      "2023-03-12 12:15:41,002 : INFO : EPOCH 4 - PROGRESS: at 54.70% examples, 401759 words/s, in_qsize 5, out_qsize 0\n",
      "2023-03-12 12:15:42,040 : INFO : EPOCH 4 - PROGRESS: at 59.73% examples, 402007 words/s, in_qsize 5, out_qsize 0\n",
      "2023-03-12 12:15:43,044 : INFO : EPOCH 4 - PROGRESS: at 64.58% examples, 402697 words/s, in_qsize 5, out_qsize 0\n",
      "2023-03-12 12:15:44,061 : INFO : EPOCH 4 - PROGRESS: at 69.45% examples, 402411 words/s, in_qsize 5, out_qsize 0\n",
      "2023-03-12 12:15:45,061 : INFO : EPOCH 4 - PROGRESS: at 74.43% examples, 403032 words/s, in_qsize 5, out_qsize 0\n",
      "2023-03-12 12:15:46,090 : INFO : EPOCH 4 - PROGRESS: at 79.36% examples, 402523 words/s, in_qsize 5, out_qsize 0\n",
      "2023-03-12 12:15:47,121 : INFO : EPOCH 4 - PROGRESS: at 84.37% examples, 402716 words/s, in_qsize 5, out_qsize 0\n",
      "2023-03-12 12:15:48,123 : INFO : EPOCH 4 - PROGRESS: at 89.07% examples, 403045 words/s, in_qsize 5, out_qsize 0\n",
      "2023-03-12 12:15:49,140 : INFO : EPOCH 4 - PROGRESS: at 93.91% examples, 402730 words/s, in_qsize 5, out_qsize 0\n",
      "2023-03-12 12:15:50,147 : INFO : EPOCH 4 - PROGRESS: at 98.87% examples, 402935 words/s, in_qsize 5, out_qsize 0\n",
      "2023-03-12 12:15:50,379 : INFO : EPOCH 4: training on 11176467 raw words (8369257 effective words) took 20.8s, 402969 effective words/s\n",
      "2023-03-12 12:15:50,379 : INFO : Word2Vec lifecycle event {'msg': 'training on 55882335 raw words (41841752 effective words) took 105.1s, 398108 effective words/s', 'datetime': '2023-03-12T12:15:50.379576', 'gensim': '4.2.0', 'python': '3.8.11 (default, Aug 16 2021, 12:04:33) \\n[Clang 12.0.0 ]', 'platform': 'macOS-13.2.1-arm64-arm-64bit', 'event': 'train'}\n",
      "2023-03-12 12:15:50,379 : INFO : Word2Vec lifecycle event {'params': 'Word2Vec<vocab=26588, vector_size=100, alpha=0.025>', 'datetime': '2023-03-12T12:15:50.379903', 'gensim': '4.2.0', 'python': '3.8.11 (default, Aug 16 2021, 12:04:33) \\n[Clang 12.0.0 ]', 'platform': 'macOS-13.2.1-arm64-arm-64bit', 'event': 'created'}\n",
      "/Users/jakebrophy/miniforge3/envs/myenv/lib/python3.8/site-packages/sklearn/linear_model/_logistic.py:444: ConvergenceWarning: lbfgs failed to converge (status=1):\n",
      "STOP: TOTAL NO. of ITERATIONS REACHED LIMIT.\n",
      "\n",
      "Increase the number of iterations (max_iter) or scale the data as shown in:\n",
      "    https://scikit-learn.org/stable/modules/preprocessing.html\n",
      "Please also refer to the documentation for alternative solver options:\n",
      "    https://scikit-learn.org/stable/modules/linear_model.html#logistic-regression\n",
      "  n_iter_i = _check_optimize_result(\n"
     ]
    },
    {
     "name": "stdout",
     "output_type": "stream",
     "text": [
      "CLASSIFICATION REPORT FOR WINDOW= 10\n",
      "              precision    recall  f1-score   support\n",
      "\n",
      "    negative       0.87      0.87      0.87      4988\n",
      "    positive       0.87      0.87      0.87      5012\n",
      "\n",
      "    accuracy                           0.87     10000\n",
      "   macro avg       0.87      0.87      0.87     10000\n",
      "weighted avg       0.87      0.87      0.87     10000\n",
      "\n"
     ]
    }
   ],
   "source": [
    "#Loop through window size\n",
    "test_acc2=[]\n",
    "train_acc2=[]\n",
    "for i in [2, 3, 5, 10]:\n",
    "    #fit w2v model\n",
    "    w2v_model = gensim.models.Word2Vec (stemmed_tokens, vector_size=100, window=i, min_count=5, sg=1)\n",
    "    #create doc embeddings train df\n",
    "    w2v_embed_df_train=create_doc_vec(X_train)\n",
    "    #fit logit\n",
    "    logreg = LogisticRegression(n_jobs=1)\n",
    "    logreg.fit(w2v_embed_df_train, Y_train)\n",
    "    #create doc embeddings test df\n",
    "    doc_vec_test=create_doc_vec(X_test)\n",
    "    #evaluate performance\n",
    "    test_predictions_word2vec = logreg.predict(doc_vec_test)\n",
    "    train_predictions_word2vec = logreg.predict(w2v_embed_df_train)\n",
    "    print('CLASSIFICATION REPORT FOR WINDOW=',i)\n",
    "    print(classification_report(Y_test,test_predictions_word2vec))\n",
    "    test_acc2.append(classification_report(Y_test, test_predictions_word2vec, output_dict=True)['accuracy'])\n",
    "    train_acc2.append(classification_report(Y_train, train_predictions_word2vec, output_dict=True)['accuracy'])"
   ]
  },
  {
   "cell_type": "code",
   "execution_count": 120,
   "id": "52f4d9a9",
   "metadata": {},
   "outputs": [
    {
     "data": {
      "image/png": "[encoded data removed]",
      "text/plain": [
       "<Figure size 432x288 with 1 Axes>"
      ]
     },
     "metadata": {
      "needs_background": "light"
     },
     "output_type": "display_data"
    }
   ],
   "source": [
    "d={\"train\":train_acc2,\n",
    "  \"test\":test_acc2}\n",
    "acc_df=pd.DataFrame(d)\n",
    "acc_df.plot(style=['o','rx'], linestyle = 'dotted')\n",
    "plt.show()"
   ]
  },
  {
   "cell_type": "markdown",
   "id": "15dc2f7d",
   "metadata": {},
   "source": [
    "## Analysis\n",
    "\n",
    "For lower values of window size, there was no change in accuracy until a window size of 5 which increased the accuracy from 85 to 86, and then a window size of 10 which increased accuracy from 86 to 87."
   ]
  },
  {
   "cell_type": "markdown",
   "id": "37c70191",
   "metadata": {},
   "source": [
    "# Question 4"
   ]
  },
  {
   "cell_type": "markdown",
   "id": "e8cad707",
   "metadata": {},
   "source": [
    "## Part 1\n",
    "\n",
    "An RNN is useful in this case because the architecture allows it to capture long-distance dependencies in the data better than a model like logistic regression which gives it something akin to memory. In other words, in a sentence like \"the boy loves the dog,\" dog and boy are related through the word 'love.' An RNN allows the model to capture this dependency because the output of the network at any given point in time is not only dependent on the input at the present time step, but also on the state of the network from the previous time step, so as the network moves past the words 'boy' and 'loves' to the word 'dog', the state of the network at the words boy and loves are preserved and affect the output at the word dog."
   ]
  },
  {
   "cell_type": "markdown",
   "id": "53cecbd8",
   "metadata": {},
   "source": [
    "## Part 2"
   ]
  },
  {
   "cell_type": "code",
   "execution_count": 10,
   "id": "188abdec",
   "metadata": {},
   "outputs": [],
   "source": [
    "#import packages\n",
    "from keras.models import Model\n",
    "from keras.layers import LSTM, Activation, Dense, Dropout, Input, Embedding\n",
    "from keras.preprocessing.text import Tokenizer\n",
    "from keras.preprocessing import sequence\n",
    "from tensorflow.keras.utils import to_categorical\n",
    "from keras.callbacks import EarlyStopping\n",
    "from keras.models import Sequential\n",
    "from keras import layers\n",
    "import tensorflow as tf\n",
    "from keras.utils import pad_sequences"
   ]
  },
  {
   "cell_type": "code",
   "execution_count": 11,
   "id": "975e380f",
   "metadata": {},
   "outputs": [],
   "source": [
    "#set parameters\n",
    "max_words = 1000\n",
    "max_len = 150\n",
    "#tokenize text\n",
    "tok = Tokenizer(num_words=max_words)\n",
    "tok.fit_on_texts(X_train)\n",
    "#convert to sequence\n",
    "sequences = tok.texts_to_sequences(X_train)\n",
    "sequences_matrix = pad_sequences(sequences,maxlen=max_len)"
   ]
  },
  {
   "cell_type": "code",
   "execution_count": 75,
   "id": "07bb5ddb",
   "metadata": {},
   "outputs": [],
   "source": [
    "#define simple architecture\n",
    "model = Sequential()\n",
    "model.add(Embedding(max_words, 50, input_length=max_len))\n",
    "model.add(LSTM(300))\n",
    "model.add(Dense(1, activation = 'sigmoid'))\n",
    "model.compile(optimizer='adam',loss = 'binary_crossentropy', metrics = ['accuracy']) "
   ]
  },
  {
   "cell_type": "code",
   "execution_count": 12,
   "id": "c45690df",
   "metadata": {},
   "outputs": [],
   "source": [
    "from sklearn.preprocessing import LabelEncoder"
   ]
  },
  {
   "cell_type": "code",
   "execution_count": 26,
   "id": "1aa181dd",
   "metadata": {},
   "outputs": [
    {
     "name": "stderr",
     "output_type": "stream",
     "text": [
      "/Users/jakebrophy/miniforge3/envs/myenv/lib/python3.8/site-packages/sklearn/preprocessing/_label.py:115: DataConversionWarning: A column-vector y was passed when a 1d array was expected. Please change the shape of y to (n_samples, ), for example using ravel().\n",
      "  y = column_or_1d(y, warn=True)\n"
     ]
    }
   ],
   "source": [
    "#label encode y variable\n",
    "le=LabelEncoder()\n",
    "Y_train = le.fit_transform(Y_train)\n",
    "Y_train = Y_train.reshape(-1,1)"
   ]
  },
  {
   "cell_type": "code",
   "execution_count": 77,
   "id": "af2725c9",
   "metadata": {},
   "outputs": [
    {
     "name": "stdout",
     "output_type": "stream",
     "text": [
      "Epoch 1/10\n",
      "125/125 [==============================] - 93s 740ms/step - loss: 0.6618 - accuracy: 0.5902 - val_loss: 0.5526 - val_accuracy: 0.7495\n",
      "Epoch 2/10\n",
      "125/125 [==============================] - 91s 730ms/step - loss: 0.3833 - accuracy: 0.8336 - val_loss: 0.4172 - val_accuracy: 0.8179\n",
      "Epoch 3/10\n",
      "125/125 [==============================] - 90s 721ms/step - loss: 0.3327 - accuracy: 0.8603 - val_loss: 0.3480 - val_accuracy: 0.8530\n",
      "Epoch 4/10\n",
      "125/125 [==============================] - 93s 743ms/step - loss: 0.3209 - accuracy: 0.8635 - val_loss: 0.3488 - val_accuracy: 0.8443\n",
      "Epoch 5/10\n",
      "125/125 [==============================] - 95s 758ms/step - loss: 0.3187 - accuracy: 0.8661 - val_loss: 0.3435 - val_accuracy: 0.8512\n",
      "Epoch 6/10\n",
      "125/125 [==============================] - 89s 715ms/step - loss: 0.3042 - accuracy: 0.8713 - val_loss: 0.3572 - val_accuracy: 0.8451\n",
      "Epoch 7/10\n",
      "125/125 [==============================] - 90s 722ms/step - loss: 0.3005 - accuracy: 0.8729 - val_loss: 0.3403 - val_accuracy: 0.8501\n",
      "Epoch 8/10\n",
      "125/125 [==============================] - 91s 726ms/step - loss: 0.2893 - accuracy: 0.8777 - val_loss: 0.3479 - val_accuracy: 0.8461\n",
      "Epoch 9/10\n",
      "125/125 [==============================] - 97s 775ms/step - loss: 0.2871 - accuracy: 0.8789 - val_loss: 0.3477 - val_accuracy: 0.8528\n",
      "Epoch 10/10\n",
      "125/125 [==============================] - 92s 736ms/step - loss: 0.2750 - accuracy: 0.8844 - val_loss: 0.3528 - val_accuracy: 0.8486\n"
     ]
    }
   ],
   "source": [
    "history=model.fit(sequences_matrix,Y_train,batch_size=256,epochs=10,validation_split=0.2)"
   ]
  },
  {
   "cell_type": "code",
   "execution_count": 85,
   "id": "5ac76156",
   "metadata": {},
   "outputs": [
    {
     "name": "stdout",
     "output_type": "stream",
     "text": [
      "313/313 [==============================] - 21s 66ms/step\n"
     ]
    },
    {
     "data": {
      "text/plain": [
       "0.8574"
      ]
     },
     "execution_count": 85,
     "metadata": {},
     "output_type": "execute_result"
    }
   ],
   "source": [
    "sequences_test = tok.texts_to_sequences(X_test)\n",
    "sequences_matrix_test = pad_sequences(sequences_test,maxlen=max_len)\n",
    "y_pred = (model.predict(sequences_matrix_test) >= 0.5).astype(\"int\")\n",
    "import sklearn\n",
    "Y_test_encode = le.fit_transform(Y_test)\n",
    "Y_test_encode = Y_test_encode.reshape(-1,1)\n",
    "sklearn.metrics.accuracy_score(Y_test_encode, y_pred)"
   ]
  },
  {
   "cell_type": "markdown",
   "id": "26cab2e9",
   "metadata": {},
   "source": [
    "## Analysis:\n",
    "\n",
    "The performance of the neural network is comparable to the logistic regression model output, which is surprising given the more advanced nature of the neural network model. I think there are two potential reasons for the similarity in performance: the first is that 10 epochs seems like too many and we are likely overfitting. This is evidenced by the fact that for the last few epochs our validation accuracy consistently does worse than in the first few epochs and early stopping should be used. The second is that the word2vec embeddings are likely much better for classification tasks which is why logit did so well."
   ]
  },
  {
   "cell_type": "markdown",
   "id": "4a03f35a",
   "metadata": {},
   "source": [
    "# Question 5"
   ]
  },
  {
   "cell_type": "code",
   "execution_count": 47,
   "id": "af83e4fe",
   "metadata": {
    "scrolled": false
   },
   "outputs": [
    {
     "name": "stderr",
     "output_type": "stream",
     "text": [
      "2023-03-09 14:15:13,737 : INFO : loading projection weights from GoogleNews-vectors-negative300.bin.gz\n",
      "2023-03-09 14:15:40,250 : INFO : KeyedVectors lifecycle event {'msg': 'loaded (3000000, 300) matrix of type float32 from GoogleNews-vectors-negative300.bin.gz', 'binary': True, 'encoding': 'utf8', 'datetime': '2023-03-09T14:15:40.246978', 'gensim': '4.2.0', 'python': '3.8.11 (default, Aug 16 2021, 12:04:33) \\n[Clang 12.0.0 ]', 'platform': 'macOS-13.2.1-arm64-arm-64bit', 'event': 'load_word2vec_format'}\n"
     ]
    }
   ],
   "source": [
    "#read in google vectors\n",
    "from gensim.models import KeyedVectors\n",
    "embeddings_index=KeyedVectors.load_word2vec_format(\"GoogleNews-vectors-negative300.bin.gz\", binary=True)"
   ]
  },
  {
   "cell_type": "code",
   "execution_count": 19,
   "id": "00ffd0b7",
   "metadata": {},
   "outputs": [],
   "source": [
    "#import Constant package\n",
    "from keras.initializers import Constant\n",
    "#set vocab size\n",
    "vocab_size = len(tok.word_index) + 1\n",
    "#set embedding dim and maximum words\n",
    "EMBEDDING_DIM = 300\n",
    "MAX_NUM_WORDS = 10000\n",
    "#set word index\n",
    "word_index = tok.word_index\n",
    "num_words = vocab_size\n",
    "#create empty embedding matrix\n",
    "embedding_matrix = np.zeros((vocab_size, EMBEDDING_DIM))\n",
    "#loop through words present in our corpus\n",
    "for word, i in word_index.items():\n",
    "    #append words present in the google vectors to our embeddings index\n",
    "    try:\n",
    "        embedding_vector = embeddings_index[word]\n",
    "        embedding_matrix[i] = embedding_vector\n",
    "    except KeyError:\n",
    "        embedding_matrix[i]=np.random.normal(0,np.sqrt(0.25),EMBEDDING_DIM)"
   ]
  },
  {
   "cell_type": "code",
   "execution_count": 78,
   "id": "0006c7e1",
   "metadata": {},
   "outputs": [],
   "source": [
    "#define simple model architecture\n",
    "model_w2v = Sequential()\n",
    "model_w2v.add(Embedding(vocab_size, output_dim=EMBEDDING_DIM, weights=[embedding_matrix], input_length=max_len, trainable=False))\n",
    "model_w2v.add(LSTM(300))\n",
    "model_w2v.add(Dense(1, activation = 'sigmoid'))\n",
    "model_w2v.compile(optimizer='adam',loss = 'binary_crossentropy', metrics = ['accuracy']) "
   ]
  },
  {
   "cell_type": "code",
   "execution_count": 79,
   "id": "2263daf7",
   "metadata": {
    "scrolled": false
   },
   "outputs": [
    {
     "name": "stdout",
     "output_type": "stream",
     "text": [
      "Epoch 1/10\n",
      "125/125 [==============================] - 116s 922ms/step - loss: 0.6264 - accuracy: 0.6511 - val_loss: 0.6146 - val_accuracy: 0.6624\n",
      "Epoch 2/10\n",
      "125/125 [==============================] - 115s 917ms/step - loss: 0.5005 - accuracy: 0.7555 - val_loss: 0.4716 - val_accuracy: 0.7819\n",
      "Epoch 3/10\n",
      "125/125 [==============================] - 115s 922ms/step - loss: 0.4347 - accuracy: 0.7997 - val_loss: 0.5141 - val_accuracy: 0.7857\n",
      "Epoch 4/10\n",
      "125/125 [==============================] - 113s 908ms/step - loss: 0.4216 - accuracy: 0.8105 - val_loss: 0.4322 - val_accuracy: 0.8006\n",
      "Epoch 5/10\n",
      "125/125 [==============================] - 116s 932ms/step - loss: 0.3905 - accuracy: 0.8259 - val_loss: 0.4244 - val_accuracy: 0.8065\n",
      "Epoch 6/10\n",
      "125/125 [==============================] - 110s 885ms/step - loss: 0.3729 - accuracy: 0.8355 - val_loss: 0.4173 - val_accuracy: 0.8014\n",
      "Epoch 7/10\n",
      "125/125 [==============================] - 113s 906ms/step - loss: 0.3603 - accuracy: 0.8403 - val_loss: 0.3733 - val_accuracy: 0.8365\n",
      "Epoch 8/10\n",
      "125/125 [==============================] - 117s 934ms/step - loss: 0.3430 - accuracy: 0.8501 - val_loss: 0.3676 - val_accuracy: 0.8399\n",
      "Epoch 9/10\n",
      "125/125 [==============================] - 117s 935ms/step - loss: 0.3232 - accuracy: 0.8623 - val_loss: 0.3537 - val_accuracy: 0.8479\n",
      "Epoch 10/10\n",
      "125/125 [==============================] - 118s 943ms/step - loss: 0.3119 - accuracy: 0.8662 - val_loss: 0.3571 - val_accuracy: 0.8494\n"
     ]
    }
   ],
   "source": [
    "history=model_w2v.fit(sequences_matrix,Y_train,batch_size=256,epochs=10,validation_split=0.2)"
   ]
  },
  {
   "cell_type": "code",
   "execution_count": 86,
   "id": "baef05a4",
   "metadata": {},
   "outputs": [
    {
     "name": "stdout",
     "output_type": "stream",
     "text": [
      "313/313 [==============================] - 32s 101ms/step\n"
     ]
    },
    {
     "data": {
      "text/plain": [
       "0.8514"
      ]
     },
     "execution_count": 86,
     "metadata": {},
     "output_type": "execute_result"
    }
   ],
   "source": [
    "y_pred = (model_w2v.predict(sequences_matrix_test) >= 0.5).astype(\"int\")\n",
    "sklearn.metrics.accuracy_score(Y_test_encode, y_pred)"
   ]
  },
  {
   "cell_type": "markdown",
   "id": "22bc0204",
   "metadata": {},
   "source": [
    "## Analysis:\n",
    "\n",
    "Surprisingly, the neural network with google word2vec embeddings actually performed worse than the previous model, when I would have expected it to perform better. The likely reason for this is that we are undertraining the model, and 10 epochs is likely not enough. This is evidenced by the fact that we see the validation accuracy consistently going up with each additional epoch and does not plateau/decrease as in the previous network. Therefore, it would likely make sense to train the network for additional epochs"
   ]
  },
  {
   "cell_type": "markdown",
   "id": "1a1241b0",
   "metadata": {},
   "source": [
    "# Question 6"
   ]
  },
  {
   "cell_type": "code",
   "execution_count": 20,
   "id": "21598c92",
   "metadata": {},
   "outputs": [
    {
     "data": {
      "text/plain": [
       "[('intrigu', 0.748183012008667),\n",
       " ('engag', 0.694418728351593),\n",
       " ('unusu', 0.678403377532959),\n",
       " ('import', 0.6678760051727295),\n",
       " ('compel', 0.6577246189117432),\n",
       " ('worthwhil', 0.6548833847045898),\n",
       " ('entic', 0.6540057063102722),\n",
       " ('fascin', 0.651665210723877),\n",
       " ('enjoy', 0.647544801235199),\n",
       " ('entertain', 0.6293315291404724),\n",
       " ('excit', 0.6251449584960938),\n",
       " ('kernel', 0.6212165355682373),\n",
       " ('substant', 0.6188052296638489),\n",
       " ('workabl', 0.6180407404899597),\n",
       " ('satisfactori', 0.6140120029449463),\n",
       " ('occident', 0.6117244958877563),\n",
       " ('inconclus', 0.6108110547065735),\n",
       " ('develop', 0.5988857746124268),\n",
       " ('engross', 0.5982039570808411),\n",
       " ('layman', 0.5964980125427246)]"
      ]
     },
     "execution_count": 20,
     "metadata": {},
     "output_type": "execute_result"
    }
   ],
   "source": [
    "w1 = [\"interest\"]\n",
    "w2v_model.wv.most_similar (positive=w1,topn=20)"
   ]
  },
  {
   "cell_type": "code",
   "execution_count": 23,
   "id": "d9233ebc",
   "metadata": {},
   "outputs": [
    {
     "data": {
      "text/plain": [
       "[('intriguing', 0.8185973167419434),\n",
       " ('fascinating', 0.7623068690299988),\n",
       " ('exciting', 0.666785717010498),\n",
       " ('Interesting', 0.6602181196212769),\n",
       " ('intersting', 0.6464772820472717),\n",
       " ('instructive', 0.6250472068786621),\n",
       " ('intruiging', 0.6132698059082031),\n",
       " ('amusing', 0.5975308418273926),\n",
       " ('enlightening', 0.586188554763794),\n",
       " ('curious', 0.5820387005805969),\n",
       " ('surprising', 0.5713135004043579),\n",
       " ('interesing', 0.5630740523338318),\n",
       " ('noteworthy', 0.5548619031906128),\n",
       " ('perplexing', 0.5477174520492554),\n",
       " ('intresting', 0.544119119644165),\n",
       " ('entertaining', 0.5434436798095703),\n",
       " ('facinating', 0.5416558980941772),\n",
       " ('enjoyable', 0.5395940542221069),\n",
       " ('amazing', 0.5381636023521423),\n",
       " ('weird', 0.5364336967468262)]"
      ]
     },
     "execution_count": 23,
     "metadata": {},
     "output_type": "execute_result"
    }
   ],
   "source": [
    "w1 = [\"interesting\"]\n",
    "embeddings_index.most_similar(w1, topn=20)"
   ]
  },
  {
   "cell_type": "markdown",
   "id": "78465650",
   "metadata": {},
   "source": [
    "## Analysis:\n",
    "\n",
    "There does appear to be fairly significant differences in the most similar words to interesting betweent the two models, which makes sense because the google word2vec embeddings were trained on google searches, whereas our embeddings were trained on our data. Additionally, the imdb data was stemmed, so we had to use the word \"interest\" instead of \"interesting.\""
   ]
  },
  {
   "cell_type": "code",
   "execution_count": 123,
   "id": "78532751",
   "metadata": {},
   "outputs": [],
   "source": [
    "#import PCA\n",
    "from sklearn.decomposition import PCA"
   ]
  },
  {
   "cell_type": "code",
   "execution_count": 124,
   "id": "56b9c54c",
   "metadata": {},
   "outputs": [],
   "source": [
    "#get similar words for boring and interesting\n",
    "int_words_similar_list=[i for i in list(zip(*embeddings_index.most_similar(w1, topn=20)))[0]]\n",
    "boring_words_similar_list=[i for i in list(zip(*embeddings_index.most_similar('boring', topn=20)))[0]]"
   ]
  },
  {
   "cell_type": "code",
   "execution_count": 125,
   "id": "e2741199",
   "metadata": {},
   "outputs": [],
   "source": [
    "#combine lists\n",
    "full_list=int_words_similar_list+boring_words_similar_list"
   ]
  },
  {
   "cell_type": "code",
   "execution_count": 126,
   "id": "0ea4f5cc",
   "metadata": {
    "scrolled": true
   },
   "outputs": [],
   "source": [
    "#get word vectors\n",
    "word_vectors = np.array([embeddings_index[w] for w in full_list])\n",
    "pca=PCA()\n",
    "pca_words = pca.fit(word_vectors)"
   ]
  },
  {
   "cell_type": "code",
   "execution_count": 127,
   "id": "b433ae3f",
   "metadata": {},
   "outputs": [
    {
     "data": {
      "image/png": "[encoded data removed]",
      "text/plain": [
       "<Figure size 432x288 with 1 Axes>"
      ]
     },
     "metadata": {
      "needs_background": "light"
     },
     "output_type": "display_data"
    }
   ],
   "source": [
    "exp_var_pca = pca_words.explained_variance_ratio_\n",
    "\n",
    "# Cumulative sum of eigenvalues to visualize factor loadings\n",
    "\n",
    "cum_sum_eigenvalues = np.cumsum(exp_var_pca)\n",
    "\n",
    "# Create the visualization plot\n",
    "\n",
    "plt.scatter(range(0,len(cum_sum_eigenvalues)), cum_sum_eigenvalues,label='Cumulative explained variance')\n",
    "plt.ylabel('Explained variance ratio')\n",
    "plt.xlabel('Principal component number')\n",
    "plt.legend(loc='best')\n",
    "plt.tight_layout()\n",
    "plt.show()"
   ]
  },
  {
   "cell_type": "markdown",
   "id": "cbbeff89",
   "metadata": {},
   "source": [
    "## Analysis:\n",
    "\n",
    "We will use 20 components because this explains close to 75% of the variance in our data"
   ]
  },
  {
   "cell_type": "code",
   "execution_count": 128,
   "id": "8b6b2c61",
   "metadata": {},
   "outputs": [],
   "source": [
    "# Fit PCA\n",
    "pca = PCA(n_components=20)\n",
    "pca_w2v = pca.fit_transform(word_vectors)"
   ]
  },
  {
   "cell_type": "code",
   "execution_count": 129,
   "id": "c4255166",
   "metadata": {},
   "outputs": [],
   "source": [
    "#Create pandas df for plotting\n",
    "pca_df = pd.DataFrame(data = pca_w2v[:,0:2], \n",
    "                                  columns = ['principal component 1', 'principal component 2'])"
   ]
  },
  {
   "cell_type": "code",
   "execution_count": 130,
   "id": "5c7b4d88",
   "metadata": {},
   "outputs": [
    {
     "data": {
      "text/plain": [
       "<AxesSubplot:xlabel='principal component 1', ylabel='principal component 2'>"
      ]
     },
     "execution_count": 130,
     "metadata": {},
     "output_type": "execute_result"
    },
    {
     "data": {
      "image/png": "[encoded data removed]",
      "text/plain": [
       "<Figure size 1152x720 with 1 Axes>"
      ]
     },
     "metadata": {
      "needs_background": "light"
     },
     "output_type": "display_data"
    }
   ],
   "source": [
    "#Plot PC1 vs PC2\n",
    "import seaborn as sns\n",
    "plt.figure(figsize=(16,10))\n",
    "sns.scatterplot(\n",
    "    x=\"principal component 1\", y=\"principal component 2\",\n",
    "    palette=sns.color_palette(\"hls\", 10),\n",
    "    data=pca_df,\n",
    "    legend=\"full\",\n",
    "    alpha=0.3\n",
    ")"
   ]
  },
  {
   "cell_type": "markdown",
   "id": "f4e7f2cc",
   "metadata": {},
   "source": [
    "## Analysis:\n",
    "\n",
    "We see here that there are two clearly defined groups, one with PC1 above 0 and with PC1 below, which likely represents the two clusters around the words 'interesting' and 'boring.' There is very little overlap because the two are antonyms and likely do not have much similarity in their word vectors."
   ]
  },
  {
   "cell_type": "code",
   "execution_count": null,
   "id": "37ddc90a",
   "metadata": {},
   "outputs": [],
   "source": []
  }
 ],
 "metadata": {
  "kernelspec": {
   "display_name": "Python 3 (ipykernel)",
   "language": "python",
   "name": "python3"
  },
  "language_info": {
   "codemirror_mode": {
    "name": "ipython",
    "version": 3
   },
   "file_extension": ".py",
   "mimetype": "text/x-python",
   "name": "python",
   "nbconvert_exporter": "python",
   "pygments_lexer": "ipython3",
   "version": "3.9.1"
  }
 },
 "nbformat": 4,
 "nbformat_minor": 5
}
